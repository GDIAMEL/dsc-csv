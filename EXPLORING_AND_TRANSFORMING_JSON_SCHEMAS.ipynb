{
  "cells": [
    {
      "cell_type": "markdown",
      "metadata": {
        "id": "view-in-github",
        "colab_type": "text"
      },
      "source": [
        "<a href=\"https://colab.research.google.com/github/GDIAMEL/dsc-csv/blob/master/EXPLORING_AND_TRANSFORMING_JSON_SCHEMAS.ipynb\" target=\"_parent\"><img src=\"https://colab.research.google.com/assets/colab-badge.svg\" alt=\"Open In Colab\"/></a>"
      ]
    },
    {
      "cell_type": "markdown",
      "metadata": {
        "id": "D4X7gshf_dHb"
      },
      "source": [
        "# Exploring and Transforming JSON Schemas"
      ]
    },
    {
      "cell_type": "markdown",
      "metadata": {
        "id": "YtF0JZsW_dHd"
      },
      "source": [
        "## Introduction\n",
        "\n",
        "In this lesson, you'll formalize your knowledge for how to explore a JSON file whose structure and schema is unknown to you. This often happens in practice when you are handed a file or stumble upon one with little documentation."
      ]
    },
    {
      "cell_type": "markdown",
      "metadata": {
        "id": "nLpLfy1G_dHe"
      },
      "source": [
        "## Objectives\n",
        "You will be able to:\n",
        "\n",
        "* Use the JSON module to load and parse JSON documents\n",
        "* Explore and extract data using unknown JSON schemas\n",
        "* Convert JSON to a pandas dataframe\n"
      ]
    },
    {
      "cell_type": "markdown",
      "metadata": {
        "id": "01_Esxqu_dHe"
      },
      "source": [
        "## Loading the JSON file\n",
        "\n",
        "As before, you'll begin by importing the `json` package, opening a file with python's built-in function, and then loading that data in."
      ]
    },
    {
      "cell_type": "code",
      "execution_count": 22,
      "metadata": {
        "id": "Qcxd804L_dHf"
      },
      "outputs": [],
      "source": [
        "import json\n",
        "with open('output.json') as f:\n",
        "    data = json.load(f)"
      ]
    },
    {
      "cell_type": "markdown",
      "metadata": {
        "id": "qv_8MOTC_dHf"
      },
      "source": [
        "## Exploring JSON Schemas  \n",
        "\n",
        "JSON files have a nested structure. The most granular level of raw data will be individual numbers (float/int) and strings. These, in turn, will be stored in the equivalent of Python lists and dictionaries. Because these can be combined, you'll start exploring by checking the type of our root object and start mapping out the hierarchy of the JSON file."
      ]
    },
    {
      "cell_type": "code",
      "execution_count": 23,
      "metadata": {
        "colab": {
          "base_uri": "https://localhost:8080/"
        },
        "id": "2j9M1Zph_dHg",
        "outputId": "225a3a43-ff66-4bcf-fa57-d493de0367f6"
      },
      "outputs": [
        {
          "output_type": "execute_result",
          "data": {
            "text/plain": [
              "dict"
            ]
          },
          "metadata": {},
          "execution_count": 23
        }
      ],
      "source": [
        "type(data)"
      ]
    },
    {
      "cell_type": "markdown",
      "metadata": {
        "id": "ytU8PsnV_dHh"
      },
      "source": [
        "As you can see, in this case, the first level of the hierarchy is a dictionary. Let's explore what keys are within this:"
      ]
    },
    {
      "cell_type": "code",
      "execution_count": 24,
      "metadata": {
        "colab": {
          "base_uri": "https://localhost:8080/"
        },
        "id": "VTeFZkzv_dHh",
        "outputId": "1779e5ca-1364-4e9c-bf90-41c3806e0cda"
      },
      "outputs": [
        {
          "output_type": "execute_result",
          "data": {
            "text/plain": [
              "dict_keys(['albums'])"
            ]
          },
          "metadata": {},
          "execution_count": 24
        }
      ],
      "source": [
        "data.keys()"
      ]
    },
    {
      "cell_type": "markdown",
      "metadata": {
        "id": "oEAM-JYK_dHh"
      },
      "source": [
        "In this case, there is only a single key, `'albums'`, so can continue exploring linearly without branching out.\n",
        "\n",
        "Once again, start by checking the type of this nested data structure."
      ]
    },
    {
      "cell_type": "code",
      "execution_count": 25,
      "metadata": {
        "colab": {
          "base_uri": "https://localhost:8080/"
        },
        "id": "raVx1Muv_dHi",
        "outputId": "5aac70db-4135-4383-8a1b-82216028532e"
      },
      "outputs": [
        {
          "output_type": "execute_result",
          "data": {
            "text/plain": [
              "dict"
            ]
          },
          "metadata": {},
          "execution_count": 25
        }
      ],
      "source": [
        "type(data['albums'])"
      ]
    },
    {
      "cell_type": "markdown",
      "metadata": {
        "id": "E5kYOehW_dHi"
      },
      "source": [
        "Another dictionary. So thus far, you have a dictionary within a dictionary. Once again, investigate what's within this dictionary."
      ]
    },
    {
      "cell_type": "code",
      "execution_count": 26,
      "metadata": {
        "colab": {
          "base_uri": "https://localhost:8080/"
        },
        "id": "5iynyFVQ_dHi",
        "outputId": "da52fdde-3df5-40a1-c8e0-d9cd8c668f2b"
      },
      "outputs": [
        {
          "output_type": "execute_result",
          "data": {
            "text/plain": [
              "dict_keys(['href', 'items', 'limit', 'next', 'offset', 'previous', 'total'])"
            ]
          },
          "metadata": {},
          "execution_count": 26
        }
      ],
      "source": [
        "data['albums'].keys()"
      ]
    },
    {
      "cell_type": "markdown",
      "metadata": {
        "id": "V9vUM1sm_dHi"
      },
      "source": [
        "At this point, things are starting to look something like this:\n",
        "<img src=\"images/json_diagram1.JPG\" width=550>"
      ]
    },
    {
      "cell_type": "markdown",
      "metadata": {
        "id": "VmZneNw2_dHj"
      },
      "source": [
        "At this point, if you were to continue checking individual data types, you have a lot to go through. To simplify this, you can use a for loop:"
      ]
    },
    {
      "cell_type": "code",
      "execution_count": 27,
      "metadata": {
        "colab": {
          "base_uri": "https://localhost:8080/"
        },
        "id": "pnQLYd0B_dHj",
        "outputId": "80712167-1372-4367-8a5f-5ea3ed9c31c9"
      },
      "outputs": [
        {
          "output_type": "stream",
          "name": "stdout",
          "text": [
            "href <class 'str'>\n",
            "items <class 'list'>\n",
            "limit <class 'int'>\n",
            "next <class 'str'>\n",
            "offset <class 'int'>\n",
            "previous <class 'NoneType'>\n",
            "total <class 'int'>\n"
          ]
        }
      ],
      "source": [
        "for key in data['albums'].keys():\n",
        "    print(key, type(data['albums'][key]))"
      ]
    },
    {
      "cell_type": "markdown",
      "metadata": {
        "id": "OBOZDNpt_dHj"
      },
      "source": [
        "Adding this to our diagram we now have something like this:\n",
        "<img src=\"images/json_diagram2.JPG\" width=550>"
      ]
    },
    {
      "cell_type": "markdown",
      "metadata": {
        "id": "PmP1sY2Z_dHj"
      },
      "source": [
        "Normally, you may not draw out the full diagram as done here, but it's a useful picture to have in mind, and in complex schemas, can be useful to map out. At this point, you also probably have a good idea of the general structure of the JSON file. However, there is still the list of items, which we could investigate further:"
      ]
    },
    {
      "cell_type": "code",
      "execution_count": 28,
      "metadata": {
        "colab": {
          "base_uri": "https://localhost:8080/"
        },
        "id": "QysoJ1Vu_dHj",
        "outputId": "9bd1dac7-d546-4666-ddd9-f6924d531d87"
      },
      "outputs": [
        {
          "output_type": "execute_result",
          "data": {
            "text/plain": [
              "list"
            ]
          },
          "metadata": {},
          "execution_count": 28
        }
      ],
      "source": [
        "type(data['albums']['items'])"
      ]
    },
    {
      "cell_type": "code",
      "execution_count": 29,
      "metadata": {
        "colab": {
          "base_uri": "https://localhost:8080/"
        },
        "id": "uO6n8V6r_dHk",
        "outputId": "c43c46ff-b63b-46b8-eb95-991e8311e44a"
      },
      "outputs": [
        {
          "output_type": "execute_result",
          "data": {
            "text/plain": [
              "2"
            ]
          },
          "metadata": {},
          "execution_count": 29
        }
      ],
      "source": [
        "len(data['albums']['items'])"
      ]
    },
    {
      "cell_type": "code",
      "execution_count": 30,
      "metadata": {
        "colab": {
          "base_uri": "https://localhost:8080/"
        },
        "id": "J_xiQxtA_dHk",
        "outputId": "c1aa9386-a564-4723-e0ff-48f3ccb0d269"
      },
      "outputs": [
        {
          "output_type": "execute_result",
          "data": {
            "text/plain": [
              "dict"
            ]
          },
          "metadata": {},
          "execution_count": 30
        }
      ],
      "source": [
        "type(data['albums']['items'][0])"
      ]
    },
    {
      "cell_type": "code",
      "execution_count": 31,
      "metadata": {
        "colab": {
          "base_uri": "https://localhost:8080/"
        },
        "id": "CuHKY71s_dHk",
        "outputId": "b43b4bdd-f546-43da-9e8f-8936fd0564b5"
      },
      "outputs": [
        {
          "output_type": "execute_result",
          "data": {
            "text/plain": [
              "dict_keys(['album_type', 'artists', 'available_markets', 'external_urls', 'href', 'id', 'images', 'name', 'type', 'uri'])"
            ]
          },
          "metadata": {},
          "execution_count": 31
        }
      ],
      "source": [
        "data['albums']['items'][0].keys()"
      ]
    },
    {
      "cell_type": "markdown",
      "metadata": {
        "id": "UMQwsVnP_dHl"
      },
      "source": [
        "## Converting JSON to Alternative Data Formats\n",
        "As you can see, the nested structure continues on: our list of items is only 2 long, but each item is a dictionary with a large number of key-value pairs. To add context, this is actually the data that you're probably after from this file: its that data providing details about what albums were recently released. The entirety of the JSON file itself is an example response from the Spotify API. So while the larger JSON provides us with many details about the response itself, our primary interest may simply be the list of dictionaries within data -> albums -> items. Preview this and see if you can transform it into our usual pandas DataFrame."
      ]
    },
    {
      "cell_type": "code",
      "execution_count": 32,
      "metadata": {
        "id": "ayCLrhgZ_dHl"
      },
      "outputs": [],
      "source": [
        "import pandas as pd"
      ]
    },
    {
      "cell_type": "markdown",
      "metadata": {
        "id": "6XeYOJIN_dHl"
      },
      "source": [
        "On first attempt, you might be tempted to pass the whole object to Pandas. Try and think about what you would like the resulting dataframe to look like based on the schema we are mapping out. What would the column names be? What would the rows represent?"
      ]
    },
    {
      "cell_type": "code",
      "execution_count": 33,
      "metadata": {
        "colab": {
          "base_uri": "https://localhost:8080/",
          "height": 201
        },
        "id": "QCp0Nkn8_dHl",
        "outputId": "5d262193-552b-406e-ae4e-bc1e30d1cee5"
      },
      "outputs": [
        {
          "output_type": "execute_result",
          "data": {
            "text/plain": [
              "  album_type                                            artists  \\\n",
              "0     single  [{'external_urls': {'spotify': 'https://open.s...   \n",
              "1     single  [{'external_urls': {'spotify': 'https://open.s...   \n",
              "\n",
              "                                   available_markets  \\\n",
              "0  [AD, AR, AT, AU, BE, BG, BO, BR, CA, CH, CL, C...   \n",
              "1  [AD, AR, AT, AU, BE, BG, BO, BR, CH, CL, CO, C...   \n",
              "\n",
              "                                       external_urls  \\\n",
              "0  {'spotify': 'https://open.spotify.com/album/5Z...   \n",
              "1  {'spotify': 'https://open.spotify.com/album/0g...   \n",
              "\n",
              "                                                href                      id  \\\n",
              "0  https://api.spotify.com/v1/albums/5ZX4m5aVSmWQ...  5ZX4m5aVSmWQ5iHAPQpT71   \n",
              "1  https://api.spotify.com/v1/albums/0geTzdk2Inlq...  0geTzdk2InlqIoB16fW9Nd   \n",
              "\n",
              "                                              images      name   type  \\\n",
              "0  [{'height': 640, 'url': 'https://i.scdn.co/ima...   Runnin'  album   \n",
              "1  [{'height': 640, 'url': 'https://i.scdn.co/ima...  Sneakin’  album   \n",
              "\n",
              "                                    uri  \n",
              "0  spotify:album:5ZX4m5aVSmWQ5iHAPQpT71  \n",
              "1  spotify:album:0geTzdk2InlqIoB16fW9Nd  "
            ],
            "text/html": [
              "\n",
              "  <div id=\"df-00b9dad1-773b-472b-b7c0-ddddc3247a31\" class=\"colab-df-container\">\n",
              "    <div>\n",
              "<style scoped>\n",
              "    .dataframe tbody tr th:only-of-type {\n",
              "        vertical-align: middle;\n",
              "    }\n",
              "\n",
              "    .dataframe tbody tr th {\n",
              "        vertical-align: top;\n",
              "    }\n",
              "\n",
              "    .dataframe thead th {\n",
              "        text-align: right;\n",
              "    }\n",
              "</style>\n",
              "<table border=\"1\" class=\"dataframe\">\n",
              "  <thead>\n",
              "    <tr style=\"text-align: right;\">\n",
              "      <th></th>\n",
              "      <th>album_type</th>\n",
              "      <th>artists</th>\n",
              "      <th>available_markets</th>\n",
              "      <th>external_urls</th>\n",
              "      <th>href</th>\n",
              "      <th>id</th>\n",
              "      <th>images</th>\n",
              "      <th>name</th>\n",
              "      <th>type</th>\n",
              "      <th>uri</th>\n",
              "    </tr>\n",
              "  </thead>\n",
              "  <tbody>\n",
              "    <tr>\n",
              "      <th>0</th>\n",
              "      <td>single</td>\n",
              "      <td>[{'external_urls': {'spotify': 'https://open.s...</td>\n",
              "      <td>[AD, AR, AT, AU, BE, BG, BO, BR, CA, CH, CL, C...</td>\n",
              "      <td>{'spotify': 'https://open.spotify.com/album/5Z...</td>\n",
              "      <td>https://api.spotify.com/v1/albums/5ZX4m5aVSmWQ...</td>\n",
              "      <td>5ZX4m5aVSmWQ5iHAPQpT71</td>\n",
              "      <td>[{'height': 640, 'url': 'https://i.scdn.co/ima...</td>\n",
              "      <td>Runnin'</td>\n",
              "      <td>album</td>\n",
              "      <td>spotify:album:5ZX4m5aVSmWQ5iHAPQpT71</td>\n",
              "    </tr>\n",
              "    <tr>\n",
              "      <th>1</th>\n",
              "      <td>single</td>\n",
              "      <td>[{'external_urls': {'spotify': 'https://open.s...</td>\n",
              "      <td>[AD, AR, AT, AU, BE, BG, BO, BR, CH, CL, CO, C...</td>\n",
              "      <td>{'spotify': 'https://open.spotify.com/album/0g...</td>\n",
              "      <td>https://api.spotify.com/v1/albums/0geTzdk2Inlq...</td>\n",
              "      <td>0geTzdk2InlqIoB16fW9Nd</td>\n",
              "      <td>[{'height': 640, 'url': 'https://i.scdn.co/ima...</td>\n",
              "      <td>Sneakin’</td>\n",
              "      <td>album</td>\n",
              "      <td>spotify:album:0geTzdk2InlqIoB16fW9Nd</td>\n",
              "    </tr>\n",
              "  </tbody>\n",
              "</table>\n",
              "</div>\n",
              "    <div class=\"colab-df-buttons\">\n",
              "\n",
              "  <div class=\"colab-df-container\">\n",
              "    <button class=\"colab-df-convert\" onclick=\"convertToInteractive('df-00b9dad1-773b-472b-b7c0-ddddc3247a31')\"\n",
              "            title=\"Convert this dataframe to an interactive table.\"\n",
              "            style=\"display:none;\">\n",
              "\n",
              "  <svg xmlns=\"http://www.w3.org/2000/svg\" height=\"24px\" viewBox=\"0 -960 960 960\">\n",
              "    <path d=\"M120-120v-720h720v720H120Zm60-500h600v-160H180v160Zm220 220h160v-160H400v160Zm0 220h160v-160H400v160ZM180-400h160v-160H180v160Zm440 0h160v-160H620v160ZM180-180h160v-160H180v160Zm440 0h160v-160H620v160Z\"/>\n",
              "  </svg>\n",
              "    </button>\n",
              "\n",
              "  <style>\n",
              "    .colab-df-container {\n",
              "      display:flex;\n",
              "      gap: 12px;\n",
              "    }\n",
              "\n",
              "    .colab-df-convert {\n",
              "      background-color: #E8F0FE;\n",
              "      border: none;\n",
              "      border-radius: 50%;\n",
              "      cursor: pointer;\n",
              "      display: none;\n",
              "      fill: #1967D2;\n",
              "      height: 32px;\n",
              "      padding: 0 0 0 0;\n",
              "      width: 32px;\n",
              "    }\n",
              "\n",
              "    .colab-df-convert:hover {\n",
              "      background-color: #E2EBFA;\n",
              "      box-shadow: 0px 1px 2px rgba(60, 64, 67, 0.3), 0px 1px 3px 1px rgba(60, 64, 67, 0.15);\n",
              "      fill: #174EA6;\n",
              "    }\n",
              "\n",
              "    .colab-df-buttons div {\n",
              "      margin-bottom: 4px;\n",
              "    }\n",
              "\n",
              "    [theme=dark] .colab-df-convert {\n",
              "      background-color: #3B4455;\n",
              "      fill: #D2E3FC;\n",
              "    }\n",
              "\n",
              "    [theme=dark] .colab-df-convert:hover {\n",
              "      background-color: #434B5C;\n",
              "      box-shadow: 0px 1px 3px 1px rgba(0, 0, 0, 0.15);\n",
              "      filter: drop-shadow(0px 1px 2px rgba(0, 0, 0, 0.3));\n",
              "      fill: #FFFFFF;\n",
              "    }\n",
              "  </style>\n",
              "\n",
              "    <script>\n",
              "      const buttonEl =\n",
              "        document.querySelector('#df-00b9dad1-773b-472b-b7c0-ddddc3247a31 button.colab-df-convert');\n",
              "      buttonEl.style.display =\n",
              "        google.colab.kernel.accessAllowed ? 'block' : 'none';\n",
              "\n",
              "      async function convertToInteractive(key) {\n",
              "        const element = document.querySelector('#df-00b9dad1-773b-472b-b7c0-ddddc3247a31');\n",
              "        const dataTable =\n",
              "          await google.colab.kernel.invokeFunction('convertToInteractive',\n",
              "                                                    [key], {});\n",
              "        if (!dataTable) return;\n",
              "\n",
              "        const docLinkHtml = 'Like what you see? Visit the ' +\n",
              "          '<a target=\"_blank\" href=https://colab.research.google.com/notebooks/data_table.ipynb>data table notebook</a>'\n",
              "          + ' to learn more about interactive tables.';\n",
              "        element.innerHTML = '';\n",
              "        dataTable['output_type'] = 'display_data';\n",
              "        await google.colab.output.renderOutput(dataTable, element);\n",
              "        const docLink = document.createElement('div');\n",
              "        docLink.innerHTML = docLinkHtml;\n",
              "        element.appendChild(docLink);\n",
              "      }\n",
              "    </script>\n",
              "  </div>\n",
              "\n",
              "\n",
              "<div id=\"df-839d1b42-0de7-4bd9-9615-c2c2e915d643\">\n",
              "  <button class=\"colab-df-quickchart\" onclick=\"quickchart('df-839d1b42-0de7-4bd9-9615-c2c2e915d643')\"\n",
              "            title=\"Suggest charts\"\n",
              "            style=\"display:none;\">\n",
              "\n",
              "<svg xmlns=\"http://www.w3.org/2000/svg\" height=\"24px\"viewBox=\"0 0 24 24\"\n",
              "     width=\"24px\">\n",
              "    <g>\n",
              "        <path d=\"M19 3H5c-1.1 0-2 .9-2 2v14c0 1.1.9 2 2 2h14c1.1 0 2-.9 2-2V5c0-1.1-.9-2-2-2zM9 17H7v-7h2v7zm4 0h-2V7h2v10zm4 0h-2v-4h2v4z\"/>\n",
              "    </g>\n",
              "</svg>\n",
              "  </button>\n",
              "\n",
              "<style>\n",
              "  .colab-df-quickchart {\n",
              "      --bg-color: #E8F0FE;\n",
              "      --fill-color: #1967D2;\n",
              "      --hover-bg-color: #E2EBFA;\n",
              "      --hover-fill-color: #174EA6;\n",
              "      --disabled-fill-color: #AAA;\n",
              "      --disabled-bg-color: #DDD;\n",
              "  }\n",
              "\n",
              "  [theme=dark] .colab-df-quickchart {\n",
              "      --bg-color: #3B4455;\n",
              "      --fill-color: #D2E3FC;\n",
              "      --hover-bg-color: #434B5C;\n",
              "      --hover-fill-color: #FFFFFF;\n",
              "      --disabled-bg-color: #3B4455;\n",
              "      --disabled-fill-color: #666;\n",
              "  }\n",
              "\n",
              "  .colab-df-quickchart {\n",
              "    background-color: var(--bg-color);\n",
              "    border: none;\n",
              "    border-radius: 50%;\n",
              "    cursor: pointer;\n",
              "    display: none;\n",
              "    fill: var(--fill-color);\n",
              "    height: 32px;\n",
              "    padding: 0;\n",
              "    width: 32px;\n",
              "  }\n",
              "\n",
              "  .colab-df-quickchart:hover {\n",
              "    background-color: var(--hover-bg-color);\n",
              "    box-shadow: 0 1px 2px rgba(60, 64, 67, 0.3), 0 1px 3px 1px rgba(60, 64, 67, 0.15);\n",
              "    fill: var(--button-hover-fill-color);\n",
              "  }\n",
              "\n",
              "  .colab-df-quickchart-complete:disabled,\n",
              "  .colab-df-quickchart-complete:disabled:hover {\n",
              "    background-color: var(--disabled-bg-color);\n",
              "    fill: var(--disabled-fill-color);\n",
              "    box-shadow: none;\n",
              "  }\n",
              "\n",
              "  .colab-df-spinner {\n",
              "    border: 2px solid var(--fill-color);\n",
              "    border-color: transparent;\n",
              "    border-bottom-color: var(--fill-color);\n",
              "    animation:\n",
              "      spin 1s steps(1) infinite;\n",
              "  }\n",
              "\n",
              "  @keyframes spin {\n",
              "    0% {\n",
              "      border-color: transparent;\n",
              "      border-bottom-color: var(--fill-color);\n",
              "      border-left-color: var(--fill-color);\n",
              "    }\n",
              "    20% {\n",
              "      border-color: transparent;\n",
              "      border-left-color: var(--fill-color);\n",
              "      border-top-color: var(--fill-color);\n",
              "    }\n",
              "    30% {\n",
              "      border-color: transparent;\n",
              "      border-left-color: var(--fill-color);\n",
              "      border-top-color: var(--fill-color);\n",
              "      border-right-color: var(--fill-color);\n",
              "    }\n",
              "    40% {\n",
              "      border-color: transparent;\n",
              "      border-right-color: var(--fill-color);\n",
              "      border-top-color: var(--fill-color);\n",
              "    }\n",
              "    60% {\n",
              "      border-color: transparent;\n",
              "      border-right-color: var(--fill-color);\n",
              "    }\n",
              "    80% {\n",
              "      border-color: transparent;\n",
              "      border-right-color: var(--fill-color);\n",
              "      border-bottom-color: var(--fill-color);\n",
              "    }\n",
              "    90% {\n",
              "      border-color: transparent;\n",
              "      border-bottom-color: var(--fill-color);\n",
              "    }\n",
              "  }\n",
              "</style>\n",
              "\n",
              "  <script>\n",
              "    async function quickchart(key) {\n",
              "      const quickchartButtonEl =\n",
              "        document.querySelector('#' + key + ' button');\n",
              "      quickchartButtonEl.disabled = true;  // To prevent multiple clicks.\n",
              "      quickchartButtonEl.classList.add('colab-df-spinner');\n",
              "      try {\n",
              "        const charts = await google.colab.kernel.invokeFunction(\n",
              "            'suggestCharts', [key], {});\n",
              "      } catch (error) {\n",
              "        console.error('Error during call to suggestCharts:', error);\n",
              "      }\n",
              "      quickchartButtonEl.classList.remove('colab-df-spinner');\n",
              "      quickchartButtonEl.classList.add('colab-df-quickchart-complete');\n",
              "    }\n",
              "    (() => {\n",
              "      let quickchartButtonEl =\n",
              "        document.querySelector('#df-839d1b42-0de7-4bd9-9615-c2c2e915d643 button');\n",
              "      quickchartButtonEl.style.display =\n",
              "        google.colab.kernel.accessAllowed ? 'block' : 'none';\n",
              "    })();\n",
              "  </script>\n",
              "</div>\n",
              "\n",
              "  <div id=\"id_76b474df-2c6b-498d-bfa3-92666e0e2a2c\">\n",
              "    <style>\n",
              "      .colab-df-generate {\n",
              "        background-color: #E8F0FE;\n",
              "        border: none;\n",
              "        border-radius: 50%;\n",
              "        cursor: pointer;\n",
              "        display: none;\n",
              "        fill: #1967D2;\n",
              "        height: 32px;\n",
              "        padding: 0 0 0 0;\n",
              "        width: 32px;\n",
              "      }\n",
              "\n",
              "      .colab-df-generate:hover {\n",
              "        background-color: #E2EBFA;\n",
              "        box-shadow: 0px 1px 2px rgba(60, 64, 67, 0.3), 0px 1px 3px 1px rgba(60, 64, 67, 0.15);\n",
              "        fill: #174EA6;\n",
              "      }\n",
              "\n",
              "      [theme=dark] .colab-df-generate {\n",
              "        background-color: #3B4455;\n",
              "        fill: #D2E3FC;\n",
              "      }\n",
              "\n",
              "      [theme=dark] .colab-df-generate:hover {\n",
              "        background-color: #434B5C;\n",
              "        box-shadow: 0px 1px 3px 1px rgba(0, 0, 0, 0.15);\n",
              "        filter: drop-shadow(0px 1px 2px rgba(0, 0, 0, 0.3));\n",
              "        fill: #FFFFFF;\n",
              "      }\n",
              "    </style>\n",
              "    <button class=\"colab-df-generate\" onclick=\"generateWithVariable('df')\"\n",
              "            title=\"Generate code using this dataframe.\"\n",
              "            style=\"display:none;\">\n",
              "\n",
              "  <svg xmlns=\"http://www.w3.org/2000/svg\" height=\"24px\"viewBox=\"0 0 24 24\"\n",
              "       width=\"24px\">\n",
              "    <path d=\"M7,19H8.4L18.45,9,17,7.55,7,17.6ZM5,21V16.75L18.45,3.32a2,2,0,0,1,2.83,0l1.4,1.43a1.91,1.91,0,0,1,.58,1.4,1.91,1.91,0,0,1-.58,1.4L9.25,21ZM18.45,9,17,7.55Zm-12,3A5.31,5.31,0,0,0,4.9,8.1,5.31,5.31,0,0,0,1,6.5,5.31,5.31,0,0,0,4.9,4.9,5.31,5.31,0,0,0,6.5,1,5.31,5.31,0,0,0,8.1,4.9,5.31,5.31,0,0,0,12,6.5,5.46,5.46,0,0,0,6.5,12Z\"/>\n",
              "  </svg>\n",
              "    </button>\n",
              "    <script>\n",
              "      (() => {\n",
              "      const buttonEl =\n",
              "        document.querySelector('#id_76b474df-2c6b-498d-bfa3-92666e0e2a2c button.colab-df-generate');\n",
              "      buttonEl.style.display =\n",
              "        google.colab.kernel.accessAllowed ? 'block' : 'none';\n",
              "\n",
              "      buttonEl.onclick = () => {\n",
              "        google.colab.notebook.generateWithVariable('df');\n",
              "      }\n",
              "      })();\n",
              "    </script>\n",
              "  </div>\n",
              "\n",
              "    </div>\n",
              "  </div>\n"
            ],
            "application/vnd.google.colaboratory.intrinsic+json": {
              "type": "dataframe",
              "variable_name": "df",
              "summary": "{\n  \"name\": \"df\",\n  \"rows\": 2,\n  \"fields\": [\n    {\n      \"column\": \"album_type\",\n      \"properties\": {\n        \"dtype\": \"string\",\n        \"num_unique_values\": 1,\n        \"samples\": [\n          \"single\"\n        ],\n        \"semantic_type\": \"\",\n        \"description\": \"\"\n      }\n    },\n    {\n      \"column\": \"artists\",\n      \"properties\": {\n        \"dtype\": \"object\",\n        \"semantic_type\": \"\",\n        \"description\": \"\"\n      }\n    },\n    {\n      \"column\": \"available_markets\",\n      \"properties\": {\n        \"dtype\": \"object\",\n        \"semantic_type\": \"\",\n        \"description\": \"\"\n      }\n    },\n    {\n      \"column\": \"external_urls\",\n      \"properties\": {\n        \"dtype\": \"object\",\n        \"semantic_type\": \"\",\n        \"description\": \"\"\n      }\n    },\n    {\n      \"column\": \"href\",\n      \"properties\": {\n        \"dtype\": \"string\",\n        \"num_unique_values\": 2,\n        \"samples\": [\n          \"https://api.spotify.com/v1/albums/0geTzdk2InlqIoB16fW9Nd\"\n        ],\n        \"semantic_type\": \"\",\n        \"description\": \"\"\n      }\n    },\n    {\n      \"column\": \"id\",\n      \"properties\": {\n        \"dtype\": \"string\",\n        \"num_unique_values\": 2,\n        \"samples\": [\n          \"0geTzdk2InlqIoB16fW9Nd\"\n        ],\n        \"semantic_type\": \"\",\n        \"description\": \"\"\n      }\n    },\n    {\n      \"column\": \"images\",\n      \"properties\": {\n        \"dtype\": \"object\",\n        \"semantic_type\": \"\",\n        \"description\": \"\"\n      }\n    },\n    {\n      \"column\": \"name\",\n      \"properties\": {\n        \"dtype\": \"string\",\n        \"num_unique_values\": 2,\n        \"samples\": [\n          \"Sneakin\\u2019\"\n        ],\n        \"semantic_type\": \"\",\n        \"description\": \"\"\n      }\n    },\n    {\n      \"column\": \"type\",\n      \"properties\": {\n        \"dtype\": \"string\",\n        \"num_unique_values\": 1,\n        \"samples\": [\n          \"album\"\n        ],\n        \"semantic_type\": \"\",\n        \"description\": \"\"\n      }\n    },\n    {\n      \"column\": \"uri\",\n      \"properties\": {\n        \"dtype\": \"string\",\n        \"num_unique_values\": 2,\n        \"samples\": [\n          \"spotify:album:0geTzdk2InlqIoB16fW9Nd\"\n        ],\n        \"semantic_type\": \"\",\n        \"description\": \"\"\n      }\n    }\n  ]\n}"
            }
          },
          "metadata": {},
          "execution_count": 33
        }
      ],
      "source": [
        "df = pd.DataFrame(data['albums']['items'])\n",
        "df"
      ]
    },
    {
      "cell_type": "markdown",
      "metadata": {
        "id": "0ahevN2n_dHl"
      },
      "source": [
        "Pandas DataFrames are mostly useful when we have fairly flat, tabular data. In this case, with a list of only two albums, we don't gain much information by displaying our data this way."
      ]
    },
    {
      "cell_type": "markdown",
      "metadata": {
        "id": "tvcrSAQg_dHm"
      },
      "source": [
        "## Extracting Data\n",
        "\n",
        "Now that we have some sense of what is in our dataset, we can extract some information that might be useful as part of a larger analysis.\n",
        "\n",
        "### What are the artist names?\n",
        "\n",
        "Although we don't have a schema available, we can see that each album contains a key `'artists'`. Let's explore that further."
      ]
    },
    {
      "cell_type": "code",
      "execution_count": 34,
      "metadata": {
        "colab": {
          "base_uri": "https://localhost:8080/"
        },
        "id": "PL94AKxf_dHm",
        "outputId": "59af73a6-e09e-4f00-ed85-fa1088927b97"
      },
      "outputs": [
        {
          "output_type": "execute_result",
          "data": {
            "text/plain": [
              "[{'external_urls': {'spotify': 'https://open.spotify.com/artist/2RdwBSPQiwcmiDo9kixcl8'},\n",
              "  'href': 'https://api.spotify.com/v1/artists/2RdwBSPQiwcmiDo9kixcl8',\n",
              "  'id': '2RdwBSPQiwcmiDo9kixcl8',\n",
              "  'name': 'Pharrell Williams',\n",
              "  'type': 'artist',\n",
              "  'uri': 'spotify:artist:2RdwBSPQiwcmiDo9kixcl8'}]"
            ]
          },
          "metadata": {},
          "execution_count": 34
        }
      ],
      "source": [
        "first_album = data['albums']['items'][0]\n",
        "\n",
        "first_album['artists']"
      ]
    },
    {
      "cell_type": "markdown",
      "metadata": {
        "id": "HdX7LqvB_dHm"
      },
      "source": [
        "That's a list of dictionaries. To convert it to a list of strings, that would be something like this:"
      ]
    },
    {
      "cell_type": "code",
      "execution_count": 35,
      "metadata": {
        "colab": {
          "base_uri": "https://localhost:8080/"
        },
        "id": "RFRkVnZf_dHn",
        "outputId": "f617e301-bd1b-46e6-badc-8b6a50e5b834"
      },
      "outputs": [
        {
          "output_type": "execute_result",
          "data": {
            "text/plain": [
              "['Pharrell Williams']"
            ]
          },
          "metadata": {},
          "execution_count": 35
        }
      ],
      "source": [
        "first_album_artists = [artist['name'] for artist in first_album['artists']]\n",
        "first_album_artists"
      ]
    },
    {
      "cell_type": "markdown",
      "metadata": {
        "id": "Zss88S8y_dHn"
      },
      "source": [
        "If we wanted to do the same for all albums in the dataset, that would be something like this:"
      ]
    },
    {
      "cell_type": "code",
      "execution_count": 36,
      "metadata": {
        "colab": {
          "base_uri": "https://localhost:8080/"
        },
        "id": "e0TgmZqC_dHn",
        "outputId": "9069c3c5-1c56-4193-96b2-9a6aaa7ba8df"
      },
      "outputs": [
        {
          "output_type": "execute_result",
          "data": {
            "text/plain": [
              "[['Pharrell Williams'], ['Drake']]"
            ]
          },
          "metadata": {},
          "execution_count": 36
        }
      ],
      "source": [
        "artists_by_album = [[artist['name'] for artist in album['artists']] for album in data['albums']['items']]\n",
        "artists_by_album"
      ]
    },
    {
      "cell_type": "markdown",
      "metadata": {
        "id": "s1F2b0NX_dHn"
      },
      "source": [
        "That same logic, without list comprehensions:"
      ]
    },
    {
      "cell_type": "code",
      "execution_count": 37,
      "metadata": {
        "colab": {
          "base_uri": "https://localhost:8080/"
        },
        "id": "qTiKA81l_dHn",
        "outputId": "53cd4196-41a2-4c55-e477-1932e22e4831"
      },
      "outputs": [
        {
          "output_type": "execute_result",
          "data": {
            "text/plain": [
              "[['Pharrell Williams'], ['Drake']]"
            ]
          },
          "metadata": {},
          "execution_count": 37
        }
      ],
      "source": [
        "# Make an empty list to hold the overall data\n",
        "artists_by_album = []\n",
        "\n",
        "# Loop over the list of dictionaries containing album info\n",
        "for album in data['albums']['items']:\n",
        "    # Make a list to contain the artist names for this album\n",
        "    artist_names = []\n",
        "    # Loop over the list of dictionaries containing artist info\n",
        "    for artist in album['artists']:\n",
        "        # Add the artist name to the list of artist names\n",
        "        artist_names.append(artist['name'])\n",
        "    # Add the list of artists for this album to the overall list\n",
        "    artists_by_album.append(artist_names)\n",
        "\n",
        "artists_by_album"
      ]
    },
    {
      "cell_type": "markdown",
      "metadata": {
        "id": "k9YPj8g3_dHo"
      },
      "source": [
        "That same logic using the dataframe would be:"
      ]
    },
    {
      "cell_type": "code",
      "execution_count": 38,
      "metadata": {
        "id": "QFD9LgPu_dHo"
      },
      "outputs": [],
      "source": [
        "def extract_artist_names(record):\n",
        "    return [artist['name'] for artist in record]"
      ]
    },
    {
      "cell_type": "code",
      "execution_count": 39,
      "metadata": {
        "colab": {
          "base_uri": "https://localhost:8080/"
        },
        "id": "ncEHWfC5_dHo",
        "outputId": "d67799ae-e2e4-4ce6-a4c4-ba90f8bbd3fd"
      },
      "outputs": [
        {
          "output_type": "execute_result",
          "data": {
            "text/plain": [
              "0    [Pharrell Williams]\n",
              "1                [Drake]\n",
              "Name: artists, dtype: object"
            ]
          },
          "metadata": {},
          "execution_count": 39
        }
      ],
      "source": [
        "df[\"artists\"].apply(extract_artist_names)"
      ]
    },
    {
      "cell_type": "markdown",
      "metadata": {
        "id": "Sn30vw6r_dHo"
      },
      "source": [
        "### How many available markets are there per album?\n",
        "\n",
        "We see that one of the keys each album has is `'available_markets'`. Let's look at it:"
      ]
    },
    {
      "cell_type": "code",
      "execution_count": 40,
      "metadata": {
        "colab": {
          "base_uri": "https://localhost:8080/"
        },
        "id": "7mpKd_wF_dHt",
        "outputId": "060ae4da-923c-46a4-b8a3-f850728d66c5"
      },
      "outputs": [
        {
          "output_type": "execute_result",
          "data": {
            "text/plain": [
              "['AD',\n",
              " 'AR',\n",
              " 'AT',\n",
              " 'AU',\n",
              " 'BE',\n",
              " 'BG',\n",
              " 'BO',\n",
              " 'BR',\n",
              " 'CA',\n",
              " 'CH',\n",
              " 'CL',\n",
              " 'CO',\n",
              " 'CR',\n",
              " 'CY',\n",
              " 'CZ',\n",
              " 'DE',\n",
              " 'DK',\n",
              " 'DO',\n",
              " 'EC',\n",
              " 'EE',\n",
              " 'ES',\n",
              " 'FI',\n",
              " 'FR',\n",
              " 'GB',\n",
              " 'GR',\n",
              " 'GT',\n",
              " 'HK',\n",
              " 'HN',\n",
              " 'HU',\n",
              " 'ID',\n",
              " 'IE',\n",
              " 'IS',\n",
              " 'IT',\n",
              " 'JP',\n",
              " 'LI',\n",
              " 'LT',\n",
              " 'LU',\n",
              " 'LV',\n",
              " 'MC',\n",
              " 'MT',\n",
              " 'MX',\n",
              " 'MY',\n",
              " 'NI',\n",
              " 'NL',\n",
              " 'NO',\n",
              " 'NZ',\n",
              " 'PA',\n",
              " 'PE',\n",
              " 'PH',\n",
              " 'PL',\n",
              " 'PT',\n",
              " 'PY',\n",
              " 'SE',\n",
              " 'SG',\n",
              " 'SK',\n",
              " 'SV',\n",
              " 'TR',\n",
              " 'TW',\n",
              " 'US',\n",
              " 'UY']"
            ]
          },
          "metadata": {},
          "execution_count": 40
        }
      ],
      "source": [
        "first_album['available_markets']"
      ]
    },
    {
      "cell_type": "markdown",
      "metadata": {
        "id": "jtMx1JTu_dHt"
      },
      "source": [
        "It appears we have a list of strings. So all we need to do is to count the length of that list for each album."
      ]
    },
    {
      "cell_type": "code",
      "execution_count": 41,
      "metadata": {
        "colab": {
          "base_uri": "https://localhost:8080/"
        },
        "id": "HA7JDmV-_dHu",
        "outputId": "6f083062-4d76-41d8-900b-84d1ebf27414"
      },
      "outputs": [
        {
          "output_type": "execute_result",
          "data": {
            "text/plain": [
              "[60, 57]"
            ]
          },
          "metadata": {},
          "execution_count": 41
        }
      ],
      "source": [
        "available_market_counts = [len(album['available_markets']) for album in data['albums']['items']]\n",
        "available_market_counts"
      ]
    },
    {
      "cell_type": "markdown",
      "metadata": {
        "id": "UX74rQ4x_dHu"
      },
      "source": [
        "Again, it would be possible to do this using pandas instead:"
      ]
    },
    {
      "cell_type": "code",
      "execution_count": 42,
      "metadata": {
        "colab": {
          "base_uri": "https://localhost:8080/"
        },
        "id": "D1yFlSdt_dHu",
        "outputId": "174dd271-d7aa-49a4-c566-c7337b03af6f"
      },
      "outputs": [
        {
          "output_type": "execute_result",
          "data": {
            "text/plain": [
              "0    60\n",
              "1    57\n",
              "Name: available_markets, dtype: int64"
            ]
          },
          "metadata": {},
          "execution_count": 42
        }
      ],
      "source": [
        "df[\"available_markets\"].apply(len)"
      ]
    },
    {
      "cell_type": "markdown",
      "metadata": {
        "id": "bjbJ_gm1_dHu"
      },
      "source": [
        "### What is the medium-sized image associated with each album?\n",
        "\n",
        "We see that the `'images'` key is associated with a list of dictionaries:"
      ]
    },
    {
      "cell_type": "code",
      "execution_count": 43,
      "metadata": {
        "colab": {
          "base_uri": "https://localhost:8080/"
        },
        "id": "V5KQaP-H_dHu",
        "outputId": "a334e9b6-2e0a-4adc-b72e-4b2e975a2342"
      },
      "outputs": [
        {
          "output_type": "execute_result",
          "data": {
            "text/plain": [
              "[{'height': 640,\n",
              "  'url': 'https://i.scdn.co/image/e6b635ebe3ef4ba22492f5698a7b5d417f78b88a',\n",
              "  'width': 640},\n",
              " {'height': 300,\n",
              "  'url': 'https://i.scdn.co/image/92ae5b0fe64870c09004dd2e745a4fb1bf7de39d',\n",
              "  'width': 300},\n",
              " {'height': 64,\n",
              "  'url': 'https://i.scdn.co/image/8a7ab6fc2c9f678308ba0f694ecd5718dc6bc930',\n",
              "  'width': 64}]"
            ]
          },
          "metadata": {},
          "execution_count": 43
        }
      ],
      "source": [
        "first_album['images']"
      ]
    },
    {
      "cell_type": "markdown",
      "metadata": {
        "id": "NKE_cPNM_dHv"
      },
      "source": [
        "Let's use IPython to display the image with `'height'` 300 for each album."
      ]
    },
    {
      "cell_type": "code",
      "execution_count": 44,
      "metadata": {
        "colab": {
          "base_uri": "https://localhost:8080/",
          "height": 627
        },
        "id": "BbvSzTvh_dHv",
        "outputId": "49d53b22-d3ba-410f-adae-4617e4327c6e"
      },
      "outputs": [
        {
          "output_type": "display_data",
          "data": {
            "text/html": [
              "<img src=\"https://i.scdn.co/image/92ae5b0fe64870c09004dd2e745a4fb1bf7de39d\"/>"
            ],
            "text/plain": [
              "<IPython.core.display.Image object>"
            ]
          },
          "metadata": {}
        },
        {
          "output_type": "display_data",
          "data": {
            "text/html": [
              "<img src=\"https://i.scdn.co/image/dff06a3375f6d9b32ecb081eb9a60bbafecb5731\"/>"
            ],
            "text/plain": [
              "<IPython.core.display.Image object>"
            ]
          },
          "metadata": {}
        }
      ],
      "source": [
        "from IPython.display import Image\n",
        "\n",
        "for album in data['albums']['items']:\n",
        "    for image in album['images']:\n",
        "        if image['height'] == 300:\n",
        "            loaded_image = Image(url=image['url'])\n",
        "            display(loaded_image)"
      ]
    },
    {
      "cell_type": "markdown",
      "metadata": {
        "id": "efpL8_S2_dHv"
      },
      "source": [
        "Once again, the same logic would be possible with pandas:"
      ]
    },
    {
      "cell_type": "code",
      "execution_count": 45,
      "metadata": {
        "id": "nOrWMbxM_dHv"
      },
      "outputs": [],
      "source": [
        "def extract_medium_images(record):\n",
        "    images = pd.DataFrame(record)\n",
        "    medium_image = images[images[\"height\"] == 300][\"url\"].values[0]\n",
        "    return medium_image\n",
        "\n",
        "def display_image(record):\n",
        "    loaded_image = Image(url=record)\n",
        "    display(loaded_image)"
      ]
    },
    {
      "cell_type": "code",
      "execution_count": 46,
      "metadata": {
        "colab": {
          "base_uri": "https://localhost:8080/",
          "height": 627
        },
        "id": "IucaK2gj_dHv",
        "outputId": "b542e259-8a1f-48fe-8fe7-aca75b295bfe"
      },
      "outputs": [
        {
          "output_type": "display_data",
          "data": {
            "text/html": [
              "<img src=\"https://i.scdn.co/image/92ae5b0fe64870c09004dd2e745a4fb1bf7de39d\"/>"
            ],
            "text/plain": [
              "<IPython.core.display.Image object>"
            ]
          },
          "metadata": {}
        },
        {
          "output_type": "display_data",
          "data": {
            "text/html": [
              "<img src=\"https://i.scdn.co/image/dff06a3375f6d9b32ecb081eb9a60bbafecb5731\"/>"
            ],
            "text/plain": [
              "<IPython.core.display.Image object>"
            ]
          },
          "metadata": {}
        }
      ],
      "source": [
        "df[\"images\"].apply(extract_medium_images).apply(display_image);"
      ]
    },
    {
      "cell_type": "markdown",
      "metadata": {
        "id": "v5x9eM3H_dHv"
      },
      "source": [
        "As you can see, once we have explored the schema somewhat, there are a lot of different things we can extract from this dataset."
      ]
    },
    {
      "cell_type": "markdown",
      "metadata": {
        "id": "trhwDuoV_dHw"
      },
      "source": [
        "## Summary\n",
        "\n",
        "JSON files often have a deep, nested structure that can require initial investigation into the schema hierarchy in order to become familiar with how data is stored. Once done, it is important to identify what data you are looking to extract and then develop a strategy to transform it using your standard workflow."
      ]
    }
  ],
  "metadata": {
    "kernelspec": {
      "display_name": "Python 3",
      "language": "python",
      "name": "python3"
    },
    "language_info": {
      "codemirror_mode": {
        "name": "ipython",
        "version": 3
      },
      "file_extension": ".py",
      "mimetype": "text/x-python",
      "name": "python",
      "nbconvert_exporter": "python",
      "pygments_lexer": "ipython3",
      "version": "3.8.5"
    },
    "toc": {
      "base_numbering": 1,
      "nav_menu": {},
      "number_sections": true,
      "sideBar": true,
      "skip_h1_title": false,
      "title_cell": "Table of Contents",
      "title_sidebar": "Contents",
      "toc_cell": false,
      "toc_position": {},
      "toc_section_display": true,
      "toc_window_display": false
    },
    "colab": {
      "provenance": [],
      "include_colab_link": true
    }
  },
  "nbformat": 4,
  "nbformat_minor": 0
}