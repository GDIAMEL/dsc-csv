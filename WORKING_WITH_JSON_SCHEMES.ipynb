{
  "cells": [
    {
      "cell_type": "markdown",
      "metadata": {
        "id": "view-in-github",
        "colab_type": "text"
      },
      "source": [
        "<a href=\"https://colab.research.google.com/github/GDIAMEL/dsc-csv/blob/master/WORKING_WITH_JSON_SCHEMES.ipynb\" target=\"_parent\"><img src=\"https://colab.research.google.com/assets/colab-badge.svg\" alt=\"Open In Colab\"/></a>"
      ]
    },
    {
      "cell_type": "markdown",
      "metadata": {
        "id": "3e797-89Aywl"
      },
      "source": [
        "# Working with Known JSON Schemas\n",
        "\n",
        "## Introduction\n",
        "You've started taking a look at JSON files and you'll continue to explore how to navigate and traverse these files. One common use case of JSON files will be when you are connecting to various websites through their established APIs to retrieve data from them. With these, you are typically given a schema for how the data is structured and then will use this knowledge to retrieve pertinent information.\n",
        "\n",
        "## Objectives\n",
        "\n",
        "You will be able to:\n",
        "\n",
        "* Use the JSON module to load and parse JSON documents\n",
        "* Extract data using predefined JSON schemas\n",
        "* Convert JSON to a pandas DataFrame\n",
        "\n",
        "## Reading a JSON Schema\n",
        "\n",
        "In this lesson, you'll take a look at the response from the New York Times API. The general idea is that the New York Times makes some of its data available over the web, and it uses the JSON format to do so.\n",
        "\n",
        "Here's the JSON schema provided for a section of the NY Times API:\n",
        "<img src=\"images/schema_overview.png\" width=\"400\">\n",
        "\n",
        "or a more detailed view (truncated):\n",
        "\n",
        "<img src=\"images/schema_detailed.png\" width=\"500\">"
      ]
    },
    {
      "cell_type": "markdown",
      "metadata": {
        "id": "eh1UwhTLAywq"
      },
      "source": [
        "You can see that the master structure is a dictionary and has a key named `'response'`. The value associated with the `'response'` key is also a dictionary and has two keys: `'docs'` and `'meta'`. As you continue to examine the schema hierarchy, you'll notice the vast majority of the elements comprising this data structure, in this case, are dictionaries."
      ]
    },
    {
      "cell_type": "markdown",
      "metadata": {
        "id": "OLJpCys-Aywq"
      },
      "source": [
        "## Loading the Data File\n",
        "\n",
        "As we have done in previous lessons, let's start by importing this data from the file. The code below uses the `json` module ([documentation here](https://docs.python.org/3/library/json.html)) and built-in `open` function to load the data from a JSON file into a Python object called `data`.\n",
        "\n",
        "> In the cell below, first import the json library, then type the following code to load the file and assign it to the variable `data`:\n",
        "\n",
        "```\n",
        "with open('ny_times_response.json', 'r') as f:\n",
        "    data = json.load(f)\n",
        "```"
      ]
    },
    {
      "cell_type": "code",
      "execution_count": 2,
      "metadata": {
        "id": "RM2295LpAywr"
      },
      "outputs": [],
      "source": [
        "import json\n",
        "# replace this comment with the code to import the JSON library\n",
        "with open('ny_times_response.json', 'r') as f:\n",
        "    data = json.load(f)\n",
        "# replace this comment with the code to load the desired file and assign it to the variable"
      ]
    },
    {
      "cell_type": "markdown",
      "metadata": {
        "id": "5qDdz7F8Aywt"
      },
      "source": [
        "Now we can inspect what we loaded with some tools we are already familiar with.\n",
        "> In the cell below, use the `type()` function to print the data type of the loaded file `data`, then print the keys of the file using the `keys()` method."
      ]
    },
    {
      "cell_type": "code",
      "execution_count": 3,
      "metadata": {
        "colab": {
          "base_uri": "https://localhost:8080/"
        },
        "id": "zhM5dBrUAywt",
        "outputId": "c6f8acde-b403-4b7b-fe58-6b0fd0d72c76"
      },
      "outputs": [
        {
          "output_type": "execute_result",
          "data": {
            "text/plain": [
              "dict_keys(['status', 'copyright', 'response'])"
            ]
          },
          "metadata": {},
          "execution_count": 3
        }
      ],
      "source": [
        "# replace this comment with the code to print the data type of the file `data`\n",
        "type(data)\n",
        "# replace this comment with the code to print the keys of the file\n",
        "data.keys()"
      ]
    },
    {
      "cell_type": "code",
      "execution_count": 4,
      "metadata": {
        "id": "JiF3VaAlAywt"
      },
      "outputs": [],
      "source": [
        "# -EXPECTED OUTPUT-\n",
        "# <class 'dict'>\n",
        "# dict_keys(['status', 'copyright', 'response'])"
      ]
    },
    {
      "cell_type": "markdown",
      "metadata": {
        "id": "dJinnOwWAywu"
      },
      "source": [
        "You should see that there are two additional keys `'status'` and `'copyright'` which were not shown in the schema documentation. As with most forms of documentation, it's important to be aware that published schemas may differ somewhat from the actual data, and your code should be able to handle these unexpected differences, within reason."
      ]
    },
    {
      "cell_type": "markdown",
      "metadata": {
        "id": "tsNcn8_SAywu"
      },
      "source": [
        "## Loading Specific Data\n",
        "\n",
        "Looking at the schema, you might be interested in retrieving a specific piece of data, such as the articles' headlines. Notice that this is a key under `'docs'`, which is under `'response'`. So the schema is roughly: data --> 'response' --> 'docs' --> 'headline', something like `data['response']['docs']['headline']`.\n",
        "\n",
        "Let's see what happens if we try that:\n",
        "\n",
        "> In the cell below, type the following code to retreive the data:\n",
        "```\n",
        "data['response']['docs']['headline']\n",
        "```"
      ]
    },
    {
      "cell_type": "code",
      "execution_count": 37,
      "metadata": {
        "colab": {
          "base_uri": "https://localhost:8080/",
          "height": 185
        },
        "id": "2KKkjB6_Aywu",
        "outputId": "143afcf3-9bc6-47b1-bceb-99698d9e6cd7"
      },
      "outputs": [
        {
          "output_type": "error",
          "ename": "TypeError",
          "evalue": "list indices must be integers or slices, not str",
          "traceback": [
            "\u001b[0;31m---------------------------------------------------------------------------\u001b[0m",
            "\u001b[0;31mTypeError\u001b[0m                                 Traceback (most recent call last)",
            "\u001b[0;32m<ipython-input-37-497c6406219f>\u001b[0m in \u001b[0;36m<cell line: 3>\u001b[0;34m()\u001b[0m\n\u001b[1;32m      1\u001b[0m \u001b[0;32mimport\u001b[0m \u001b[0mjson\u001b[0m\u001b[0;34m\u001b[0m\u001b[0;34m\u001b[0m\u001b[0m\n\u001b[1;32m      2\u001b[0m \u001b[0;31m# replace this comment with the code to show the contents of data->response->docs->headline\u001b[0m\u001b[0;34m\u001b[0m\u001b[0;34m\u001b[0m\u001b[0m\n\u001b[0;32m----> 3\u001b[0;31m \u001b[0mdata\u001b[0m\u001b[0;34m[\u001b[0m\u001b[0;34m'response'\u001b[0m\u001b[0;34m]\u001b[0m\u001b[0;34m[\u001b[0m\u001b[0;34m'docs'\u001b[0m\u001b[0;34m]\u001b[0m\u001b[0;34m[\u001b[0m\u001b[0;34m'headline'\u001b[0m\u001b[0;34m]\u001b[0m\u001b[0;34m\u001b[0m\u001b[0;34m\u001b[0m\u001b[0m\n\u001b[0m",
            "\u001b[0;31mTypeError\u001b[0m: list indices must be integers or slices, not str"
          ]
        }
      ],
      "source": [
        "import json\n",
        "# replace this comment with the code to show the contents of data->response->docs->headline\n",
        "data['response']['docs']['headline']"
      ]
    },
    {
      "cell_type": "code",
      "execution_count": 38,
      "metadata": {
        "colab": {
          "base_uri": "https://localhost:8080/",
          "height": 73
        },
        "id": "mumwszKnAywu",
        "outputId": "ab89437b-6005-4ec7-d8a3-e3932cae1244"
      },
      "outputs": [
        {
          "output_type": "execute_result",
          "data": {
            "text/plain": [
              "\"\\n---------------------------------------------------------------------------\\nTypeError                                 Traceback (most recent call last)\\n<ipython-input-3-0cb4d3140f8a> in <module>\\n      1 # replace this comment with the code to show the contents of data->response->docs->headline\\n----> 2 data['response']['docs']['headline']\\n\\nTypeError: list indices must be integers or slices, not str\\n\""
            ],
            "application/vnd.google.colaboratory.intrinsic+json": {
              "type": "string"
            }
          },
          "metadata": {},
          "execution_count": 38
        }
      ],
      "source": [
        "# -EXPECTED OUTPUT-\n",
        "\"\"\"\n",
        "---------------------------------------------------------------------------\n",
        "TypeError                                 Traceback (most recent call last)\n",
        "<ipython-input-3-0cb4d3140f8a> in <module>\n",
        "      1 # replace this comment with the code to show the contents of data->response->docs->headline\n",
        "----> 2 data['response']['docs']['headline']\n",
        "\n",
        "TypeError: list indices must be integers or slices, not str\n",
        "\"\"\""
      ]
    },
    {
      "cell_type": "markdown",
      "metadata": {
        "id": "ay3LQFxpAywv"
      },
      "source": [
        "Ok, this error message is saying that somewhere along the way, **we treated something like a dictionary when it was actually a list**. Let's break down that chain of commands to figure out what went wrong.\n",
        "\n",
        "We are pretty sure that `data['response']` will not cause an error, since we already checked that `data` is type `dict`, and that `'response'` is one of the keys. But what is the type of `data['response']`?"
      ]
    },
    {
      "cell_type": "code",
      "execution_count": 39,
      "metadata": {
        "colab": {
          "base_uri": "https://localhost:8080/"
        },
        "id": "gggFVgg2Aywv",
        "outputId": "ed5a02f0-06c5-4296-c0e5-c66de430cabe"
      },
      "outputs": [
        {
          "output_type": "execute_result",
          "data": {
            "text/plain": [
              "{'docs': [{'web_url': 'https://query.nytimes.com/gst/abstract.html?res=9C05E3D7113DE633A25754C1A9679D946597D6CF',\n",
              "   'snippet': 'Spent $22,200',\n",
              "   'abstract': 'Spent $22,200',\n",
              "   'print_page': '2',\n",
              "   'blog': {},\n",
              "   'source': 'The New York Times',\n",
              "   'multimedia': [],\n",
              "   'headline': {'main': \"HIGGINS, SPENT $22,189.53.; Governor-Elect's Election Expenses -- Harrison $9,220.28.\",\n",
              "    'kicker': None,\n",
              "    'content_kicker': None,\n",
              "    'print_headline': None,\n",
              "    'name': None,\n",
              "    'seo': None,\n",
              "    'sub': None},\n",
              "   'keywords': [{'name': 'persons',\n",
              "     'value': 'HIGGINS, LT. GOV.',\n",
              "     'rank': 0,\n",
              "     'major': None}],\n",
              "   'pub_date': '1904-11-17T00:00:00Z',\n",
              "   'document_type': 'article',\n",
              "   'type_of_material': 'Article',\n",
              "   '_id': '4fc04eb745c1498b0d23da00',\n",
              "   'word_count': 213,\n",
              "   'score': 1},\n",
              "  {'web_url': 'https://query.nytimes.com/gst/abstract.html?res=9E07E6DA1F3BE433A25750C2A9669D946593D6CF',\n",
              "   'snippet': '',\n",
              "   'print_page': '15',\n",
              "   'blog': {},\n",
              "   'source': 'The New York Times',\n",
              "   'multimedia': [],\n",
              "   'headline': {'main': 'GARDEN BOUTS CANCELED; Mauriello Says He Could Not Be Ready on Nov. 3',\n",
              "    'kicker': '1',\n",
              "    'content_kicker': None,\n",
              "    'print_headline': None,\n",
              "    'name': None,\n",
              "    'seo': None,\n",
              "    'sub': None},\n",
              "   'keywords': [],\n",
              "   'pub_date': '1944-10-23T00:00:00Z',\n",
              "   'document_type': 'article',\n",
              "   'type_of_material': 'Article',\n",
              "   '_id': '4fc21ebf45c1498b0d612b22',\n",
              "   'word_count': 149,\n",
              "   'score': 1},\n",
              "  {'web_url': 'https://query.nytimes.com/gst/abstract.html?res=9E07E1DB1330E531A15756C1A9639C946492D6CF',\n",
              "   'snippet': 'Stock prices last week, on the lightest volume of the year, sustained the largest losses in about two months. Some technicians were inclined to believe that if offerings became heavier on the decline, the averages could challenge the lows of the f...',\n",
              "   'print_page': 'F1',\n",
              "   'blog': {},\n",
              "   'source': 'The New York Times',\n",
              "   'multimedia': [],\n",
              "   'headline': {'main': 'Stock Drop Is Biggest in 2 Months--Margin Rise Held Factor in Lightest Trading of 1955',\n",
              "    'kicker': '1',\n",
              "    'content_kicker': None,\n",
              "    'print_headline': None,\n",
              "    'name': None,\n",
              "    'seo': None,\n",
              "    'sub': None},\n",
              "   'keywords': [],\n",
              "   'pub_date': '1955-05-15T00:00:00Z',\n",
              "   'document_type': 'article',\n",
              "   'byline': {'original': 'By JOHN G. FORREST',\n",
              "    'person': [{'firstname': 'John',\n",
              "      'middlename': 'G.',\n",
              "      'lastname': 'FORREST',\n",
              "      'qualifier': None,\n",
              "      'title': None,\n",
              "      'role': 'reported',\n",
              "      'organization': '',\n",
              "      'rank': 1}],\n",
              "    'organization': None},\n",
              "   'type_of_material': 'Article',\n",
              "   '_id': '4fc3b41d45c1498b0d7fd41e',\n",
              "   'word_count': 823,\n",
              "   'score': 1},\n",
              "  {'web_url': 'https://query.nytimes.com/gst/abstract.html?res=9504EEDE123BE733A25755C0A9679D946597D6CF',\n",
              "   'snippet': 'The first public rehearsal and concert of the Philharmonic Society will be given at Carnegie Hall on Friday afternoon and Saturday evening. Gustav F. Kogel, the former director of the Museum Concert at Frankfort-on-the-Main, will be the conductor....',\n",
              "   'abstract': 'Healy, Michael, will suit',\n",
              "   'print_page': '20',\n",
              "   'blog': {},\n",
              "   'source': 'The New York Times',\n",
              "   'multimedia': [],\n",
              "   'headline': {'main': 'MUSIC OF THE WEEK',\n",
              "    'kicker': None,\n",
              "    'content_kicker': None,\n",
              "    'print_headline': None,\n",
              "    'name': None,\n",
              "    'seo': None,\n",
              "    'sub': None},\n",
              "   'keywords': [{'name': 'persons',\n",
              "     'value': 'HEALY, MICHAEL',\n",
              "     'rank': 0,\n",
              "     'major': None}],\n",
              "   'pub_date': '1904-11-06T00:00:00Z',\n",
              "   'document_type': 'article',\n",
              "   'type_of_material': 'Article',\n",
              "   '_id': '4fc04eb745c1498b0d23da12',\n",
              "   'word_count': 2609,\n",
              "   'score': 1},\n",
              "  {'web_url': 'https://www.nytimes.com/1992/05/06/business/anacomp-inc-reports-earnings-for-qtr-to-march-31.html',\n",
              "   'snippet': '',\n",
              "   'print_page': '20',\n",
              "   'blog': {},\n",
              "   'source': 'The New York Times',\n",
              "   'multimedia': [],\n",
              "   'headline': {'main': 'Anacomp Inc. reports earnings for Qtr to March 31',\n",
              "    'kicker': None,\n",
              "    'content_kicker': None,\n",
              "    'print_headline': None,\n",
              "    'name': None,\n",
              "    'seo': None,\n",
              "    'sub': None},\n",
              "   'keywords': [{'name': 'subject',\n",
              "     'value': 'COMPANY EARNINGS',\n",
              "     'rank': 0,\n",
              "     'major': None}],\n",
              "   'pub_date': '1992-05-06T00:00:00Z',\n",
              "   'document_type': 'article',\n",
              "   'news_desk': 'Financial Desk',\n",
              "   'type_of_material': 'Statistics',\n",
              "   '_id': '4fd1b3018eb7c8105d6d690a',\n",
              "   'word_count': 129,\n",
              "   'score': 1},\n",
              "  {'web_url': 'https://query.nytimes.com/gst/abstract.html?res=9503EFDF153DE53ABC4C51DFB4678389669EDE',\n",
              "   'snippet': '',\n",
              "   'print_page': 'S9',\n",
              "   'blog': {},\n",
              "   'source': 'The New York Times',\n",
              "   'multimedia': [],\n",
              "   'headline': {'main': 'Brooklyn Routs Yeshiva',\n",
              "    'kicker': '1',\n",
              "    'content_kicker': None,\n",
              "    'print_headline': None,\n",
              "    'name': None,\n",
              "    'seo': None,\n",
              "    'sub': None},\n",
              "   'keywords': [],\n",
              "   'pub_date': '1972-12-24T00:00:00Z',\n",
              "   'document_type': 'article',\n",
              "   'type_of_material': 'Article',\n",
              "   '_id': '4fc47bb045c1498b0da03363',\n",
              "   'word_count': 144,\n",
              "   'score': 1},\n",
              "  {'web_url': 'https://query.nytimes.com/gst/abstract.html?res=9F03E1DA1631E63BBC4D51DFB4678389669EDE',\n",
              "   'snippet': 'ALBUQUERQUE, N. M., Dec. 24 -- Holiday drinkers who have drunk too much can get free rides home from now until Jan. 2 through a test program being carried out by taxi companies, university students and a local alcohol safety organization.  ',\n",
              "   'print_page': '11',\n",
              "   'blog': {},\n",
              "   'source': 'The New York Times',\n",
              "   'multimedia': [],\n",
              "   'headline': {'main': 'Albuquerque Program Gives Drinkers a Lift',\n",
              "    'kicker': '1',\n",
              "    'content_kicker': None,\n",
              "    'print_headline': None,\n",
              "    'name': None,\n",
              "    'seo': None,\n",
              "    'sub': None},\n",
              "   'keywords': [],\n",
              "   'pub_date': '1972-12-25T00:00:00Z',\n",
              "   'document_type': 'article',\n",
              "   'byline': {'original': 'Special to The New York Times',\n",
              "    'person': [{'firstname': None,\n",
              "      'middlename': None,\n",
              "      'lastname': None,\n",
              "      'qualifier': None,\n",
              "      'title': None,\n",
              "      'role': 'reported',\n",
              "      'organization': '',\n",
              "      'rank': 1}],\n",
              "    'organization': None},\n",
              "   'type_of_material': 'Article',\n",
              "   '_id': '4fc47bb045c1498b0da03367',\n",
              "   'word_count': 151,\n",
              "   'score': 1},\n",
              "  {'web_url': 'https://query.nytimes.com/gst/abstract.html?res=9905E6DD153EE03BBC4C51DFB667838F659EDE',\n",
              "   'snippet': '',\n",
              "   'print_page': '1',\n",
              "   'blog': {},\n",
              "   'source': 'The New York Times',\n",
              "   'multimedia': [],\n",
              "   'headline': {'main': 'Front Page 7 -- No Title',\n",
              "    'kicker': '1',\n",
              "    'content_kicker': None,\n",
              "    'print_headline': None,\n",
              "    'name': None,\n",
              "    'seo': None,\n",
              "    'sub': None},\n",
              "   'keywords': [],\n",
              "   'pub_date': '1944-10-24T00:00:00Z',\n",
              "   'document_type': 'article',\n",
              "   'type_of_material': 'Front Page',\n",
              "   '_id': '4fc21ebf45c1498b0d612b3c',\n",
              "   'word_count': 29,\n",
              "   'score': 1},\n",
              "  {'web_url': 'https://query.nytimes.com/gst/abstract.html?res=9507EFDB1F3AE733A25755C0A96E9C946597D6CF',\n",
              "   'snippet': 'The employers and the unions have lined up in preparation for a long fight in the building war. An indication of the feeling that this will be a real fight is the appointment of a regular Press Committee by the employers. Members of their associat...',\n",
              "   'abstract': \"housesmiths won't strike\",\n",
              "   'print_page': '1',\n",
              "   'blog': {},\n",
              "   'source': 'The New York Times',\n",
              "   'multimedia': [],\n",
              "   'headline': {'main': 'UNIONS AND BUILDERS READY FOR LONG FIGHT; None of the Strikers Back - Lock-Out Soon in Effect. 23,000 ALREADY INVOLVED Orders Sent to Every Building Employer Within Twenty-five Miles -- House-smiths Vote Not to Strike.',\n",
              "    'kicker': None,\n",
              "    'content_kicker': None,\n",
              "    'print_headline': None,\n",
              "    'name': None,\n",
              "    'seo': None,\n",
              "    'sub': None},\n",
              "   'keywords': [{'name': 'glocations',\n",
              "     'value': 'NEW YORK CITY',\n",
              "     'rank': 0,\n",
              "     'major': None},\n",
              "    {'name': 'subject', 'value': 'STRIKES', 'rank': 0, 'major': None},\n",
              "    {'name': 'subject',\n",
              "     'value': 'PENN. MINERS THREATEN',\n",
              "     'rank': 0,\n",
              "     'major': None},\n",
              "    {'name': 'subject',\n",
              "     'value': 'BLDG. TRADES EMP. ASS. MAY LOCK OUT 30,000',\n",
              "     'rank': 0,\n",
              "     'major': None},\n",
              "    {'name': 'subject',\n",
              "     'value': '23,000 MEN INVOLVED',\n",
              "     'rank': 0,\n",
              "     'major': None}],\n",
              "   'pub_date': '1904-08-06T00:00:00Z',\n",
              "   'document_type': 'article',\n",
              "   'type_of_material': 'Front Page',\n",
              "   '_id': '4fc04eb745c1498b0d23da17',\n",
              "   'word_count': 883,\n",
              "   'score': 1}],\n",
              " 'meta': {'hits': 15533655, 'offset': 0, 'time': 207}}"
            ]
          },
          "metadata": {},
          "execution_count": 39
        }
      ],
      "source": [
        "# replace this comment with the code to display the data type in data->response\n",
        "data['response']"
      ]
    },
    {
      "cell_type": "code",
      "execution_count": 40,
      "metadata": {
        "id": "lvRXsC__Aywv"
      },
      "outputs": [],
      "source": [
        "# -EXPECTED OUTPUT-\n",
        "# dict"
      ]
    },
    {
      "cell_type": "markdown",
      "metadata": {
        "id": "7jCVsEyQAywv"
      },
      "source": [
        "Ok, that's a dictionary, too. How about `data['response']['docs']`?"
      ]
    },
    {
      "cell_type": "code",
      "execution_count": 41,
      "metadata": {
        "colab": {
          "base_uri": "https://localhost:8080/"
        },
        "id": "gfbW598EAywv",
        "outputId": "f26e59c7-5555-48d8-8694-165a77f44c87"
      },
      "outputs": [
        {
          "output_type": "execute_result",
          "data": {
            "text/plain": [
              "[{'web_url': 'https://query.nytimes.com/gst/abstract.html?res=9C05E3D7113DE633A25754C1A9679D946597D6CF',\n",
              "  'snippet': 'Spent $22,200',\n",
              "  'abstract': 'Spent $22,200',\n",
              "  'print_page': '2',\n",
              "  'blog': {},\n",
              "  'source': 'The New York Times',\n",
              "  'multimedia': [],\n",
              "  'headline': {'main': \"HIGGINS, SPENT $22,189.53.; Governor-Elect's Election Expenses -- Harrison $9,220.28.\",\n",
              "   'kicker': None,\n",
              "   'content_kicker': None,\n",
              "   'print_headline': None,\n",
              "   'name': None,\n",
              "   'seo': None,\n",
              "   'sub': None},\n",
              "  'keywords': [{'name': 'persons',\n",
              "    'value': 'HIGGINS, LT. GOV.',\n",
              "    'rank': 0,\n",
              "    'major': None}],\n",
              "  'pub_date': '1904-11-17T00:00:00Z',\n",
              "  'document_type': 'article',\n",
              "  'type_of_material': 'Article',\n",
              "  '_id': '4fc04eb745c1498b0d23da00',\n",
              "  'word_count': 213,\n",
              "  'score': 1},\n",
              " {'web_url': 'https://query.nytimes.com/gst/abstract.html?res=9E07E6DA1F3BE433A25750C2A9669D946593D6CF',\n",
              "  'snippet': '',\n",
              "  'print_page': '15',\n",
              "  'blog': {},\n",
              "  'source': 'The New York Times',\n",
              "  'multimedia': [],\n",
              "  'headline': {'main': 'GARDEN BOUTS CANCELED; Mauriello Says He Could Not Be Ready on Nov. 3',\n",
              "   'kicker': '1',\n",
              "   'content_kicker': None,\n",
              "   'print_headline': None,\n",
              "   'name': None,\n",
              "   'seo': None,\n",
              "   'sub': None},\n",
              "  'keywords': [],\n",
              "  'pub_date': '1944-10-23T00:00:00Z',\n",
              "  'document_type': 'article',\n",
              "  'type_of_material': 'Article',\n",
              "  '_id': '4fc21ebf45c1498b0d612b22',\n",
              "  'word_count': 149,\n",
              "  'score': 1},\n",
              " {'web_url': 'https://query.nytimes.com/gst/abstract.html?res=9E07E1DB1330E531A15756C1A9639C946492D6CF',\n",
              "  'snippet': 'Stock prices last week, on the lightest volume of the year, sustained the largest losses in about two months. Some technicians were inclined to believe that if offerings became heavier on the decline, the averages could challenge the lows of the f...',\n",
              "  'print_page': 'F1',\n",
              "  'blog': {},\n",
              "  'source': 'The New York Times',\n",
              "  'multimedia': [],\n",
              "  'headline': {'main': 'Stock Drop Is Biggest in 2 Months--Margin Rise Held Factor in Lightest Trading of 1955',\n",
              "   'kicker': '1',\n",
              "   'content_kicker': None,\n",
              "   'print_headline': None,\n",
              "   'name': None,\n",
              "   'seo': None,\n",
              "   'sub': None},\n",
              "  'keywords': [],\n",
              "  'pub_date': '1955-05-15T00:00:00Z',\n",
              "  'document_type': 'article',\n",
              "  'byline': {'original': 'By JOHN G. FORREST',\n",
              "   'person': [{'firstname': 'John',\n",
              "     'middlename': 'G.',\n",
              "     'lastname': 'FORREST',\n",
              "     'qualifier': None,\n",
              "     'title': None,\n",
              "     'role': 'reported',\n",
              "     'organization': '',\n",
              "     'rank': 1}],\n",
              "   'organization': None},\n",
              "  'type_of_material': 'Article',\n",
              "  '_id': '4fc3b41d45c1498b0d7fd41e',\n",
              "  'word_count': 823,\n",
              "  'score': 1},\n",
              " {'web_url': 'https://query.nytimes.com/gst/abstract.html?res=9504EEDE123BE733A25755C0A9679D946597D6CF',\n",
              "  'snippet': 'The first public rehearsal and concert of the Philharmonic Society will be given at Carnegie Hall on Friday afternoon and Saturday evening. Gustav F. Kogel, the former director of the Museum Concert at Frankfort-on-the-Main, will be the conductor....',\n",
              "  'abstract': 'Healy, Michael, will suit',\n",
              "  'print_page': '20',\n",
              "  'blog': {},\n",
              "  'source': 'The New York Times',\n",
              "  'multimedia': [],\n",
              "  'headline': {'main': 'MUSIC OF THE WEEK',\n",
              "   'kicker': None,\n",
              "   'content_kicker': None,\n",
              "   'print_headline': None,\n",
              "   'name': None,\n",
              "   'seo': None,\n",
              "   'sub': None},\n",
              "  'keywords': [{'name': 'persons',\n",
              "    'value': 'HEALY, MICHAEL',\n",
              "    'rank': 0,\n",
              "    'major': None}],\n",
              "  'pub_date': '1904-11-06T00:00:00Z',\n",
              "  'document_type': 'article',\n",
              "  'type_of_material': 'Article',\n",
              "  '_id': '4fc04eb745c1498b0d23da12',\n",
              "  'word_count': 2609,\n",
              "  'score': 1},\n",
              " {'web_url': 'https://www.nytimes.com/1992/05/06/business/anacomp-inc-reports-earnings-for-qtr-to-march-31.html',\n",
              "  'snippet': '',\n",
              "  'print_page': '20',\n",
              "  'blog': {},\n",
              "  'source': 'The New York Times',\n",
              "  'multimedia': [],\n",
              "  'headline': {'main': 'Anacomp Inc. reports earnings for Qtr to March 31',\n",
              "   'kicker': None,\n",
              "   'content_kicker': None,\n",
              "   'print_headline': None,\n",
              "   'name': None,\n",
              "   'seo': None,\n",
              "   'sub': None},\n",
              "  'keywords': [{'name': 'subject',\n",
              "    'value': 'COMPANY EARNINGS',\n",
              "    'rank': 0,\n",
              "    'major': None}],\n",
              "  'pub_date': '1992-05-06T00:00:00Z',\n",
              "  'document_type': 'article',\n",
              "  'news_desk': 'Financial Desk',\n",
              "  'type_of_material': 'Statistics',\n",
              "  '_id': '4fd1b3018eb7c8105d6d690a',\n",
              "  'word_count': 129,\n",
              "  'score': 1},\n",
              " {'web_url': 'https://query.nytimes.com/gst/abstract.html?res=9503EFDF153DE53ABC4C51DFB4678389669EDE',\n",
              "  'snippet': '',\n",
              "  'print_page': 'S9',\n",
              "  'blog': {},\n",
              "  'source': 'The New York Times',\n",
              "  'multimedia': [],\n",
              "  'headline': {'main': 'Brooklyn Routs Yeshiva',\n",
              "   'kicker': '1',\n",
              "   'content_kicker': None,\n",
              "   'print_headline': None,\n",
              "   'name': None,\n",
              "   'seo': None,\n",
              "   'sub': None},\n",
              "  'keywords': [],\n",
              "  'pub_date': '1972-12-24T00:00:00Z',\n",
              "  'document_type': 'article',\n",
              "  'type_of_material': 'Article',\n",
              "  '_id': '4fc47bb045c1498b0da03363',\n",
              "  'word_count': 144,\n",
              "  'score': 1},\n",
              " {'web_url': 'https://query.nytimes.com/gst/abstract.html?res=9F03E1DA1631E63BBC4D51DFB4678389669EDE',\n",
              "  'snippet': 'ALBUQUERQUE, N. M., Dec. 24 -- Holiday drinkers who have drunk too much can get free rides home from now until Jan. 2 through a test program being carried out by taxi companies, university students and a local alcohol safety organization.  ',\n",
              "  'print_page': '11',\n",
              "  'blog': {},\n",
              "  'source': 'The New York Times',\n",
              "  'multimedia': [],\n",
              "  'headline': {'main': 'Albuquerque Program Gives Drinkers a Lift',\n",
              "   'kicker': '1',\n",
              "   'content_kicker': None,\n",
              "   'print_headline': None,\n",
              "   'name': None,\n",
              "   'seo': None,\n",
              "   'sub': None},\n",
              "  'keywords': [],\n",
              "  'pub_date': '1972-12-25T00:00:00Z',\n",
              "  'document_type': 'article',\n",
              "  'byline': {'original': 'Special to The New York Times',\n",
              "   'person': [{'firstname': None,\n",
              "     'middlename': None,\n",
              "     'lastname': None,\n",
              "     'qualifier': None,\n",
              "     'title': None,\n",
              "     'role': 'reported',\n",
              "     'organization': '',\n",
              "     'rank': 1}],\n",
              "   'organization': None},\n",
              "  'type_of_material': 'Article',\n",
              "  '_id': '4fc47bb045c1498b0da03367',\n",
              "  'word_count': 151,\n",
              "  'score': 1},\n",
              " {'web_url': 'https://query.nytimes.com/gst/abstract.html?res=9905E6DD153EE03BBC4C51DFB667838F659EDE',\n",
              "  'snippet': '',\n",
              "  'print_page': '1',\n",
              "  'blog': {},\n",
              "  'source': 'The New York Times',\n",
              "  'multimedia': [],\n",
              "  'headline': {'main': 'Front Page 7 -- No Title',\n",
              "   'kicker': '1',\n",
              "   'content_kicker': None,\n",
              "   'print_headline': None,\n",
              "   'name': None,\n",
              "   'seo': None,\n",
              "   'sub': None},\n",
              "  'keywords': [],\n",
              "  'pub_date': '1944-10-24T00:00:00Z',\n",
              "  'document_type': 'article',\n",
              "  'type_of_material': 'Front Page',\n",
              "  '_id': '4fc21ebf45c1498b0d612b3c',\n",
              "  'word_count': 29,\n",
              "  'score': 1},\n",
              " {'web_url': 'https://query.nytimes.com/gst/abstract.html?res=9507EFDB1F3AE733A25755C0A96E9C946597D6CF',\n",
              "  'snippet': 'The employers and the unions have lined up in preparation for a long fight in the building war. An indication of the feeling that this will be a real fight is the appointment of a regular Press Committee by the employers. Members of their associat...',\n",
              "  'abstract': \"housesmiths won't strike\",\n",
              "  'print_page': '1',\n",
              "  'blog': {},\n",
              "  'source': 'The New York Times',\n",
              "  'multimedia': [],\n",
              "  'headline': {'main': 'UNIONS AND BUILDERS READY FOR LONG FIGHT; None of the Strikers Back - Lock-Out Soon in Effect. 23,000 ALREADY INVOLVED Orders Sent to Every Building Employer Within Twenty-five Miles -- House-smiths Vote Not to Strike.',\n",
              "   'kicker': None,\n",
              "   'content_kicker': None,\n",
              "   'print_headline': None,\n",
              "   'name': None,\n",
              "   'seo': None,\n",
              "   'sub': None},\n",
              "  'keywords': [{'name': 'glocations',\n",
              "    'value': 'NEW YORK CITY',\n",
              "    'rank': 0,\n",
              "    'major': None},\n",
              "   {'name': 'subject', 'value': 'STRIKES', 'rank': 0, 'major': None},\n",
              "   {'name': 'subject',\n",
              "    'value': 'PENN. MINERS THREATEN',\n",
              "    'rank': 0,\n",
              "    'major': None},\n",
              "   {'name': 'subject',\n",
              "    'value': 'BLDG. TRADES EMP. ASS. MAY LOCK OUT 30,000',\n",
              "    'rank': 0,\n",
              "    'major': None},\n",
              "   {'name': 'subject',\n",
              "    'value': '23,000 MEN INVOLVED',\n",
              "    'rank': 0,\n",
              "    'major': None}],\n",
              "  'pub_date': '1904-08-06T00:00:00Z',\n",
              "  'document_type': 'article',\n",
              "  'type_of_material': 'Front Page',\n",
              "  '_id': '4fc04eb745c1498b0d23da17',\n",
              "  'word_count': 883,\n",
              "  'score': 1}]"
            ]
          },
          "metadata": {},
          "execution_count": 41
        }
      ],
      "source": [
        "# replace this comment with the code to display the data type of the data in data->response->docs\n",
        "data['response']['docs']"
      ]
    },
    {
      "cell_type": "code",
      "execution_count": 42,
      "metadata": {
        "id": "oOymmrtmAyww"
      },
      "outputs": [],
      "source": [
        "# -EXPECTED OUTPUT-\n",
        "# list"
      ]
    },
    {
      "cell_type": "markdown",
      "metadata": {
        "id": "gc-zhiUbAyww"
      },
      "source": [
        "So, that is the source of the error. We tried to treat this as a dictionary (accessing the value associated with the key `'headline'`) but it's a list.\n",
        "\n",
        "If you scroll back up to the schema pictured above, this makes sense. The value associated with the `'docs'` key is shown surrounded by `[` and `]`, right before the `{` and `}`, indicating that this is a *list* of dictionaries, not just a dictionary.\n",
        "\n",
        "You'll run into this kind of distinction repeatedly when working with JSON data. Sometimes values will be nested in unexpected ways, or you'll miss a key detail when you're skimming the schema. What's most important is that you're able to keep going and figure out what went wrong, not that you get it right on the first try.\n",
        "\n",
        "Now that we know that this is a list, let's extract it and print out some more information about it:\n",
        "\n",
        "> In the cell below, extract the data in `data['response']['docs']` and assign it to the variable `docs`.  Then display the following information about it:\n",
        " - the data type using `type()`\n",
        " - the length using `len()`\n",
        " - the contents of the first element of the list using the index `[0]`\n",
        " Try to make your output match the _-EXPECTED OUTPUT-_, we will help with the first line:\n",
        " ```\n",
        " print(\"`docs` is a data structure of type\", type(docs))\n",
        " ```\n",
        " or\n",
        " ```\n",
        " print(f\"`docs` is a data structure of type {type(docs)}\")\n",
        " ```"
      ]
    },
    {
      "cell_type": "code",
      "execution_count": 43,
      "metadata": {
        "colab": {
          "base_uri": "https://localhost:8080/"
        },
        "id": "ZpcWSdSoAyww",
        "outputId": "18f37727-204b-4ba2-a501-2d5d3bac9a5f"
      },
      "outputs": [
        {
          "output_type": "stream",
          "name": "stdout",
          "text": [
            "`docs` is a data structure of type <class 'list'>\n"
          ]
        },
        {
          "output_type": "execute_result",
          "data": {
            "text/plain": [
              "dict"
            ]
          },
          "metadata": {},
          "execution_count": 43
        }
      ],
      "source": [
        "docs = data['response']['docs']\n",
        "# replace this comment with the code to extract the desired data and assign it to the variable\n",
        "print(\"`docs` is a data structure of type\", type(docs))\n",
        "\n",
        "\n",
        "# replace this comment with the code to print the data type of `docs`\n",
        "type(docs)\n",
        "# replace this comment with the code to print the length\n",
        "len(docs)\n",
        "# replace this comment with the code to print the data type of the first element\n",
        "type(docs[0])"
      ]
    },
    {
      "cell_type": "code",
      "execution_count": 44,
      "metadata": {
        "id": "NXs-XdQkAyww"
      },
      "outputs": [],
      "source": [
        "# -EXPECTED OUTPUT-\n",
        "# `docs` is a data structure of type <class 'list'>\n",
        "# It contains 9 elements\n",
        "# The first element is type <class 'dict'>"
      ]
    },
    {
      "cell_type": "markdown",
      "metadata": {
        "id": "N22df6w1Ayww"
      },
      "source": [
        "This confirms what we expected. Now we can loop over that list of dictionaries and print the values associated with the `'headline'` keys:\n",
        "\n",
        "> In the following cell write a for loop or list comprehension to display each element one by one.  To do this use one of the following code blocks:  \n",
        "\n",
        "with a for loop:\n",
        "```\n",
        "for doc in docs:\n",
        "    print(doc['headline'])\n",
        "```\n",
        "or with list comprehension:\n",
        "```\n",
        "print([doc['headline'] for doc in docs])\n",
        "```"
      ]
    },
    {
      "cell_type": "code",
      "execution_count": 45,
      "metadata": {
        "colab": {
          "base_uri": "https://localhost:8080/"
        },
        "id": "2hCTM9ecAywx",
        "outputId": "dca58589-1cf4-4e6d-a176-83d540c18fcd"
      },
      "outputs": [
        {
          "output_type": "stream",
          "name": "stdout",
          "text": [
            "{'main': \"HIGGINS, SPENT $22,189.53.; Governor-Elect's Election Expenses -- Harrison $9,220.28.\", 'kicker': None, 'content_kicker': None, 'print_headline': None, 'name': None, 'seo': None, 'sub': None}\n",
            "{'main': 'GARDEN BOUTS CANCELED; Mauriello Says He Could Not Be Ready on Nov. 3', 'kicker': '1', 'content_kicker': None, 'print_headline': None, 'name': None, 'seo': None, 'sub': None}\n",
            "{'main': 'Stock Drop Is Biggest in 2 Months--Margin Rise Held Factor in Lightest Trading of 1955', 'kicker': '1', 'content_kicker': None, 'print_headline': None, 'name': None, 'seo': None, 'sub': None}\n",
            "{'main': 'MUSIC OF THE WEEK', 'kicker': None, 'content_kicker': None, 'print_headline': None, 'name': None, 'seo': None, 'sub': None}\n",
            "{'main': 'Anacomp Inc. reports earnings for Qtr to March 31', 'kicker': None, 'content_kicker': None, 'print_headline': None, 'name': None, 'seo': None, 'sub': None}\n",
            "{'main': 'Brooklyn Routs Yeshiva', 'kicker': '1', 'content_kicker': None, 'print_headline': None, 'name': None, 'seo': None, 'sub': None}\n",
            "{'main': 'Albuquerque Program Gives Drinkers a Lift', 'kicker': '1', 'content_kicker': None, 'print_headline': None, 'name': None, 'seo': None, 'sub': None}\n",
            "{'main': 'Front Page 7 -- No Title', 'kicker': '1', 'content_kicker': None, 'print_headline': None, 'name': None, 'seo': None, 'sub': None}\n",
            "{'main': 'UNIONS AND BUILDERS READY FOR LONG FIGHT; None of the Strikers Back - Lock-Out Soon in Effect. 23,000 ALREADY INVOLVED Orders Sent to Every Building Employer Within Twenty-five Miles -- House-smiths Vote Not to Strike.', 'kicker': None, 'content_kicker': None, 'print_headline': None, 'name': None, 'seo': None, 'sub': None}\n"
          ]
        }
      ],
      "source": [
        "# replace this comment with either the for loop or the list comprehension to print each headline\n",
        "for doc in docs:\n",
        "    print(doc['headline'])"
      ]
    },
    {
      "cell_type": "code",
      "execution_count": 46,
      "metadata": {
        "colab": {
          "base_uri": "https://localhost:8080/",
          "height": 128
        },
        "id": "rz-OGHYgAywx",
        "outputId": "7bc752c6-918b-4842-975e-3b30c9e1ab8c"
      },
      "outputs": [
        {
          "output_type": "execute_result",
          "data": {
            "text/plain": [
              "'\\n[{\\'main\\': \"HIGGINS, SPENT $22,189.53.; Governor-Elect\\'s Election Expenses -- Harrison $9,220.28.\", \\'kicker\\': None, \\'content_kicker\\': None, \\'print_headline\\': None, \\'name\\': None, \\'seo\\': None, \\'sub\\': None}, {\\'main\\': \\'GARDEN BOUTS CANCELED; Mauriello Says He Could Not Be Ready on Nov. 3\\', \\'kicker\\': \\'1\\', \\'content_kicker\\': None, \\'print_headline\\': None, \\'name\\': None, \\'seo\\': None, \\'sub\\': None}, {\\'main\\': \\'Stock Drop Is Biggest in 2 Months--Margin Rise Held Factor in Lightest Trading of 1955\\', \\'kicker\\': \\'1\\', \\'content_kicker\\': None, \\'print_headline\\': None, \\'name\\': None, \\'seo\\': None, \\'sub\\': None}, {\\'main\\': \\'MUSIC OF THE WEEK\\', \\'kicker\\': None, \\'content_kicker\\': None, \\'print_headline\\': None, \\'name\\': None, \\'seo\\': None, \\'sub\\': None}, {\\'main\\': \\'Anacomp Inc. reports earnings for Qtr to March 31\\', \\'kicker\\': None, \\'content_kicker\\': None, \\'print_headline\\': None, \\'name\\': None, \\'seo\\': None, \\'sub\\': None}, {\\'main\\': \\'Brooklyn Routs Yeshiva\\', \\'kicker\\': \\'1\\', \\'content_kicker\\': None, \\'print_headline\\': None, \\'name\\': None, \\'seo\\': None, \\'sub\\': None}, {\\'main\\': \\'Albuquerque Program Gives Drinkers a Lift\\', \\'kicker\\': \\'1\\', \\'content_kicker\\': None, \\'print_headline\\': None, \\'name\\': None, \\'seo\\': None, \\'sub\\': None}, {\\'main\\': \\'Front Page 7 -- No Title\\', \\'kicker\\': \\'1\\', \\'content_kicker\\': None, \\'print_headline\\': None, \\'name\\': None, \\'seo\\': None, \\'sub\\': None}, {\\'main\\': \\'UNIONS AND BUILDERS READY FOR LONG FIGHT; None of the Strikers Back - Lock-Out Soon in Effect. 23,000 ALREADY INVOLVED Orders Sent to Every Building Employer Within Twenty-five Miles -- House-smiths Vote Not to Strike.\\', \\'kicker\\': None, \\'content_kicker\\': None, \\'print_headline\\': None, \\'name\\': None, \\'seo\\': None, \\'sub\\': None}]\\n'"
            ],
            "application/vnd.google.colaboratory.intrinsic+json": {
              "type": "string"
            }
          },
          "metadata": {},
          "execution_count": 46
        }
      ],
      "source": [
        "# -EXPECTED OUTPUT-\n",
        "# for loop\n",
        "\"\"\"\n",
        "{'main': \"HIGGINS, SPENT $22,189.53.; Governor-Elect's Election Expenses -- Harrison $9,220.28.\", 'kicker': None, 'content_kicker': None, 'print_headline': None, 'name': None, 'seo': None, 'sub': None}\n",
        "{'main': 'GARDEN BOUTS CANCELED; Mauriello Says He Could Not Be Ready on Nov. 3', 'kicker': '1', 'content_kicker': None, 'print_headline': None, 'name': None, 'seo': None, 'sub': None}\n",
        "{'main': 'Stock Drop Is Biggest in 2 Months--Margin Rise Held Factor in Lightest Trading of 1955', 'kicker': '1', 'content_kicker': None, 'print_headline': None, 'name': None, 'seo': None, 'sub': None}\n",
        "{'main': 'MUSIC OF THE WEEK', 'kicker': None, 'content_kicker': None, 'print_headline': None, 'name': None, 'seo': None, 'sub': None}\n",
        "{'main': 'Anacomp Inc. reports earnings for Qtr to March 31', 'kicker': None, 'content_kicker': None, 'print_headline': None, 'name': None, 'seo': None, 'sub': None}\n",
        "{'main': 'Brooklyn Routs Yeshiva', 'kicker': '1', 'content_kicker': None, 'print_headline': None, 'name': None, 'seo': None, 'sub': None}\n",
        "{'main': 'Albuquerque Program Gives Drinkers a Lift', 'kicker': '1', 'content_kicker': None, 'print_headline': None, 'name': None, 'seo': None, 'sub': None}\n",
        "{'main': 'Front Page 7 -- No Title', 'kicker': '1', 'content_kicker': None, 'print_headline': None, 'name': None, 'seo': None, 'sub': None}\n",
        "{'main': 'UNIONS AND BUILDERS READY FOR LONG FIGHT; None of the Strikers Back - Lock-Out Soon in Effect. 23,000 ALREADY INVOLVED Orders Sent to Every Building Employer Within Twenty-five Miles -- House-smiths Vote Not to Strike.', 'kicker': None, 'content_kicker': None, 'print_headline': None, 'name': None, 'seo': None, 'sub': None}\n",
        "\"\"\"\n",
        "# or\n",
        "# list comprehension\n",
        "\"\"\"\n",
        "[{'main': \"HIGGINS, SPENT $22,189.53.; Governor-Elect's Election Expenses -- Harrison $9,220.28.\", 'kicker': None, 'content_kicker': None, 'print_headline': None, 'name': None, 'seo': None, 'sub': None}, {'main': 'GARDEN BOUTS CANCELED; Mauriello Says He Could Not Be Ready on Nov. 3', 'kicker': '1', 'content_kicker': None, 'print_headline': None, 'name': None, 'seo': None, 'sub': None}, {'main': 'Stock Drop Is Biggest in 2 Months--Margin Rise Held Factor in Lightest Trading of 1955', 'kicker': '1', 'content_kicker': None, 'print_headline': None, 'name': None, 'seo': None, 'sub': None}, {'main': 'MUSIC OF THE WEEK', 'kicker': None, 'content_kicker': None, 'print_headline': None, 'name': None, 'seo': None, 'sub': None}, {'main': 'Anacomp Inc. reports earnings for Qtr to March 31', 'kicker': None, 'content_kicker': None, 'print_headline': None, 'name': None, 'seo': None, 'sub': None}, {'main': 'Brooklyn Routs Yeshiva', 'kicker': '1', 'content_kicker': None, 'print_headline': None, 'name': None, 'seo': None, 'sub': None}, {'main': 'Albuquerque Program Gives Drinkers a Lift', 'kicker': '1', 'content_kicker': None, 'print_headline': None, 'name': None, 'seo': None, 'sub': None}, {'main': 'Front Page 7 -- No Title', 'kicker': '1', 'content_kicker': None, 'print_headline': None, 'name': None, 'seo': None, 'sub': None}, {'main': 'UNIONS AND BUILDERS READY FOR LONG FIGHT; None of the Strikers Back - Lock-Out Soon in Effect. 23,000 ALREADY INVOLVED Orders Sent to Every Building Employer Within Twenty-five Miles -- House-smiths Vote Not to Strike.', 'kicker': None, 'content_kicker': None, 'print_headline': None, 'name': None, 'seo': None, 'sub': None}]\n",
        "\"\"\""
      ]
    },
    {
      "cell_type": "markdown",
      "metadata": {
        "id": "q80ZnXpOAywx"
      },
      "source": [
        "Or if you want to just print the main headlines themselves with the following code:\n",
        "\n",
        "> In the cell below, type the following code to print the `main` element of each `headline`:\n",
        "\n",
        "with a for loop:\n",
        "```\n",
        "for doc in docs:\n",
        "    print(doc['headline']['main'])\n",
        "\n",
        "```\n",
        "or with list comprehension:\n",
        "```\n",
        "print([doc['headline']['main'] for doc in docs])\n",
        "```"
      ]
    },
    {
      "cell_type": "code",
      "execution_count": 47,
      "metadata": {
        "colab": {
          "base_uri": "https://localhost:8080/"
        },
        "id": "cSVaunkVAywx",
        "outputId": "e6355e11-1bbb-4c8c-920f-e6528c66ae4c"
      },
      "outputs": [
        {
          "output_type": "stream",
          "name": "stdout",
          "text": [
            "HIGGINS, SPENT $22,189.53.; Governor-Elect's Election Expenses -- Harrison $9,220.28.\n",
            "GARDEN BOUTS CANCELED; Mauriello Says He Could Not Be Ready on Nov. 3\n",
            "Stock Drop Is Biggest in 2 Months--Margin Rise Held Factor in Lightest Trading of 1955\n",
            "MUSIC OF THE WEEK\n",
            "Anacomp Inc. reports earnings for Qtr to March 31\n",
            "Brooklyn Routs Yeshiva\n",
            "Albuquerque Program Gives Drinkers a Lift\n",
            "Front Page 7 -- No Title\n",
            "UNIONS AND BUILDERS READY FOR LONG FIGHT; None of the Strikers Back - Lock-Out Soon in Effect. 23,000 ALREADY INVOLVED Orders Sent to Every Building Employer Within Twenty-five Miles -- House-smiths Vote Not to Strike.\n"
          ]
        }
      ],
      "source": [
        "# replace this comment with the code to print each individual headline using either a for loop or list comprehension\n",
        "for doc in docs:\n",
        "    print(doc['headline']['main'])"
      ]
    },
    {
      "cell_type": "code",
      "execution_count": 48,
      "metadata": {
        "colab": {
          "base_uri": "https://localhost:8080/",
          "height": 91
        },
        "id": "HZlb4k0XAywx",
        "outputId": "e4ebf261-f6f0-4f93-934a-4f8cf656ecda"
      },
      "outputs": [
        {
          "output_type": "execute_result",
          "data": {
            "text/plain": [
              "'[\"HIGGINS, SPENT $22,189.53.; Governor-Elect\\'s Election Expenses -- Harrison $9,220.28.\", \\'GARDEN BOUTS CANCELED; Mauriello Says He Could Not Be Ready on Nov. 3\\', \\'Stock Drop Is Biggest in 2 Months--Margin Rise Held Factor in Lightest Trading of 1955\\', \\'MUSIC OF THE WEEK\\', \\'Anacomp Inc. reports earnings for Qtr to March 31\\', \\'Brooklyn Routs Yeshiva\\', \\'Albuquerque Program Gives Drinkers a Lift\\', \\'Front Page 7 -- No Title\\', \\'UNIONS AND BUILDERS READY FOR LONG FIGHT; None of the Strikers Back - Lock-Out Soon in Effect. 23,000 ALREADY INVOLVED Orders Sent to Every Building Employer Within Twenty-five Miles -- House-smiths Vote Not to Strike.\\']\\n'"
            ],
            "application/vnd.google.colaboratory.intrinsic+json": {
              "type": "string"
            }
          },
          "metadata": {},
          "execution_count": 48
        }
      ],
      "source": [
        "# -EXPECTED OUTPUT-\n",
        "\"\"\"\n",
        "HIGGINS, SPENT $22,189.53.; Governor-Elect's Election Expenses -- Harrison $9,220.28.\n",
        "GARDEN BOUTS CANCELED; Mauriello Says He Could Not Be Ready on Nov. 3\n",
        "Stock Drop Is Biggest in 2 Months--Margin Rise Held Factor in Lightest Trading of 1955\n",
        "MUSIC OF THE WEEK\n",
        "Anacomp Inc. reports earnings for Qtr to March 31\n",
        "Brooklyn Routs Yeshiva\n",
        "Albuquerque Program Gives Drinkers a Lift\n",
        "Front Page 7 -- No Title\n",
        "UNIONS AND BUILDERS READY FOR LONG FIGHT; None of the Strikers Back - Lock-Out Soon in Effect. 23,000 ALREADY INVOLVED Orders Sent to Every Building Employer Within Twenty-five Miles -- House-smiths Vote Not to Strike.\n",
        "\"\"\"\n",
        "\n",
        "# or with list comprehension\n",
        "\n",
        "\"\"\"[\"HIGGINS, SPENT $22,189.53.; Governor-Elect's Election Expenses -- Harrison $9,220.28.\", 'GARDEN BOUTS CANCELED; Mauriello Says He Could Not Be Ready on Nov. 3', 'Stock Drop Is Biggest in 2 Months--Margin Rise Held Factor in Lightest Trading of 1955', 'MUSIC OF THE WEEK', 'Anacomp Inc. reports earnings for Qtr to March 31', 'Brooklyn Routs Yeshiva', 'Albuquerque Program Gives Drinkers a Lift', 'Front Page 7 -- No Title', 'UNIONS AND BUILDERS READY FOR LONG FIGHT; None of the Strikers Back - Lock-Out Soon in Effect. 23,000 ALREADY INVOLVED Orders Sent to Every Building Employer Within Twenty-five Miles -- House-smiths Vote Not to Strike.']\n",
        "\"\"\""
      ]
    },
    {
      "cell_type": "markdown",
      "metadata": {
        "id": "DeHQ-PGoAywx"
      },
      "source": [
        "## Flattening Data (i.e. Breaking Out Nested Data)\n",
        "\n",
        "Let's say we want to create a list of dictionaries containing information about the documents contained in this JSON. It should contain the publication date (value associated with `pub_date` key), word count (value associated with `word_count` key), and both the `'main'` and `'kicker'` associated with the `headline` key. This list should be called `doc_info_list` and should look something like this:\n",
        "\n",
        "```python\n",
        "[\n",
        "    {\n",
        "        'headline_main': \"HIGGINS, SPENT $22,189.53.; Governor-Elect's Election Expenses -- Harrison $9,220.28.\",\n",
        "        'headline_kicker': None,\n",
        "        'pub_date': '1904-11-17T00:00:00Z',\n",
        "        'word_count': 213\n",
        "    },\n",
        "    {\n",
        "        'headline_main': 'GARDEN BOUTS CANCELED; Mauriello Says He Could Not Be Ready on Nov. 3',\n",
        "        'headline_kicker': '1',\n",
        "        'pub_date': '1944-10-23T00:00:00Z',\n",
        "        'word_count': 149\n",
        "    },\n",
        "    ...\n",
        "]\n",
        "```\n",
        "\n",
        "The tricky part is, each dictionary needs to be \"flat\", meaning that each key is associated with a single string or number value, not a deeper data structure. So we need to flatten the nested `headline` dictionary.\n",
        "\n",
        "It's also conventional when flattening data to make a compound name for the newly-created keys. So, let's call the new keys `headline_main` and `headline_kicker`.\n",
        "\n",
        "Recall the structure of a `headline` dictionary:\n",
        "\n",
        "> Print out one of the `headline` elements by typing in the following code:\n",
        "\n",
        "```\n",
        "docs[2]['headline']\n",
        "```"
      ]
    },
    {
      "cell_type": "code",
      "execution_count": 49,
      "metadata": {
        "colab": {
          "base_uri": "https://localhost:8080/"
        },
        "id": "MfXUWtpjAywy",
        "outputId": "77111a59-b429-4983-efcd-0b2d43843764"
      },
      "outputs": [
        {
          "output_type": "execute_result",
          "data": {
            "text/plain": [
              "{'main': 'Stock Drop Is Biggest in 2 Months--Margin Rise Held Factor in Lightest Trading of 1955',\n",
              " 'kicker': '1',\n",
              " 'content_kicker': None,\n",
              " 'print_headline': None,\n",
              " 'name': None,\n",
              " 'seo': None,\n",
              " 'sub': None}"
            ]
          },
          "metadata": {},
          "execution_count": 49
        }
      ],
      "source": [
        "# replace this comment with the code to display one of the headline elements\n",
        "docs[2]['headline']"
      ]
    },
    {
      "cell_type": "code",
      "execution_count": 50,
      "metadata": {
        "colab": {
          "base_uri": "https://localhost:8080/",
          "height": 55
        },
        "id": "3Qc1yAD7Aywy",
        "outputId": "aa8144eb-0bcf-4bb0-bc17-e901f70381f8"
      },
      "outputs": [
        {
          "output_type": "execute_result",
          "data": {
            "text/plain": [
              "\"\\n{'main': 'Stock Drop Is Biggest in 2 Months--Margin Rise Held Factor in Lightest Trading of 1955',\\n 'kicker': '1',\\n 'content_kicker': None,\\n 'print_headline': None,\\n 'name': None,\\n 'seo': None,\\n 'sub': None}\\n\""
            ],
            "application/vnd.google.colaboratory.intrinsic+json": {
              "type": "string"
            }
          },
          "metadata": {},
          "execution_count": 50
        }
      ],
      "source": [
        "# -EXPECTED OUTPUT-\n",
        "\"\"\"\n",
        "{'main': 'Stock Drop Is Biggest in 2 Months--Margin Rise Held Factor in Lightest Trading of 1955',\n",
        " 'kicker': '1',\n",
        " 'content_kicker': None,\n",
        " 'print_headline': None,\n",
        " 'name': None,\n",
        " 'seo': None,\n",
        " 'sub': None}\n",
        "\"\"\""
      ]
    },
    {
      "cell_type": "markdown",
      "metadata": {
        "id": "4kj5pkCNAywy"
      },
      "source": [
        "So, first let's write a function that takes in that complete dictionary, and returns a copy with only the `'main'` and `'kicker'` keys and values, now labeled `'headline_main'` and `'headline_kicker'`:\n",
        "\n",
        "> In the cell below, type the following code to extract the desired information:\n",
        "\n",
        "```\n",
        "def extract_headline_info(headline_dict):\n",
        "    result = {}\n",
        "    result['headline_main'] = headline_dict['main']\n",
        "    result['headline_kicker'] = headline_dict['kicker']\n",
        "    return result\n",
        "```"
      ]
    },
    {
      "cell_type": "code",
      "execution_count": 51,
      "metadata": {
        "id": "jHOyjxFjAywy"
      },
      "outputs": [],
      "source": [
        "# replace this comment with the code to define the desired function\n",
        "def extract_headline_info(headline_dict):\n",
        "    result = {}\n",
        "    result['headline_main'] = headline_dict['main']\n",
        "    result['headline_kicker'] = headline_dict['kicker']\n",
        "    return result"
      ]
    },
    {
      "cell_type": "markdown",
      "metadata": {
        "id": "WmrNhGUnAywy"
      },
      "source": [
        "Then we can test it out:\n",
        "\n",
        "> In the cell below, type the following code to test the function:\n",
        "\n",
        "```\n",
        "extract_headline_info(docs[2]['headline'])\n",
        "```"
      ]
    },
    {
      "cell_type": "code",
      "execution_count": 52,
      "metadata": {
        "colab": {
          "base_uri": "https://localhost:8080/"
        },
        "id": "hSxdy9xlAywy",
        "outputId": "214c4940-075c-49d9-a96b-f2cecb513415"
      },
      "outputs": [
        {
          "output_type": "execute_result",
          "data": {
            "text/plain": [
              "{'headline_main': 'Stock Drop Is Biggest in 2 Months--Margin Rise Held Factor in Lightest Trading of 1955',\n",
              " 'headline_kicker': '1'}"
            ]
          },
          "metadata": {},
          "execution_count": 52
        }
      ],
      "source": [
        "# replace this comment with the code to test out the funtion\n",
        "extract_headline_info(docs[2]['headline'])"
      ]
    },
    {
      "cell_type": "code",
      "execution_count": 53,
      "metadata": {
        "colab": {
          "base_uri": "https://localhost:8080/",
          "height": 36
        },
        "id": "k-yZzYpMAywz",
        "outputId": "b0873df0-79ff-4e4d-962c-2ec330ae2704"
      },
      "outputs": [
        {
          "output_type": "execute_result",
          "data": {
            "text/plain": [
              "\"\\n{'headline_main': 'Stock Drop Is Biggest in 2 Months--Margin Rise Held Factor in Lightest Trading of 1955',\\n 'headline_kicker': '1'}\\n\""
            ],
            "application/vnd.google.colaboratory.intrinsic+json": {
              "type": "string"
            }
          },
          "metadata": {},
          "execution_count": 53
        }
      ],
      "source": [
        "# -EXPECTED OUTPUT-\n",
        "\"\"\"\n",
        "{'headline_main': 'Stock Drop Is Biggest in 2 Months--Margin Rise Held Factor in Lightest Trading of 1955',\n",
        " 'headline_kicker': '1'}\n",
        "\"\"\""
      ]
    },
    {
      "cell_type": "markdown",
      "metadata": {
        "id": "JKrK_oj3Aywz"
      },
      "source": [
        "Now let's write another function that calls that function, then adds the `pub_date` and `word_count` keys and values:\n",
        "\n",
        "> In the cell below type the following code to define a function that calls our other function and adds the `pub_date` and `word_count` keys and values:\n",
        "```\n",
        "def extract_doc_info(doc):\n",
        "    info = extract_headline_info(doc['headline'])\n",
        "    info['pub_date'] = doc['pub_date']\n",
        "    info['word_count'] = doc['word_count']\n",
        "    return info\n",
        "```"
      ]
    },
    {
      "cell_type": "code",
      "execution_count": 54,
      "metadata": {
        "id": "n1tfzfNxAywz"
      },
      "outputs": [],
      "source": [
        "# replace this comment with the code to define the desired function\n",
        "def extract_doc_info(doc):\n",
        "    info = extract_headline_info(doc['headline'])\n",
        "    info['pub_date'] = doc['pub_date']\n",
        "    info['word_count'] = doc['word_count']\n",
        "    return info"
      ]
    },
    {
      "cell_type": "markdown",
      "metadata": {
        "id": "AtTgDxs_Ayw0"
      },
      "source": [
        "Again, testing it out on a couple examples:\n",
        "\n",
        "> In the cells below, type the following code to test the function changing the index as necessary:\n",
        "\n",
        "```\n",
        "extract_doc_info(docs[2])\n",
        "```"
      ]
    },
    {
      "cell_type": "code",
      "execution_count": 55,
      "metadata": {
        "colab": {
          "base_uri": "https://localhost:8080/"
        },
        "id": "kfRPP5YzAyw0",
        "outputId": "1134c57c-342e-48bd-8653-c82f2368ac0e"
      },
      "outputs": [
        {
          "output_type": "execute_result",
          "data": {
            "text/plain": [
              "{'headline_main': 'Stock Drop Is Biggest in 2 Months--Margin Rise Held Factor in Lightest Trading of 1955',\n",
              " 'headline_kicker': '1',\n",
              " 'pub_date': '1955-05-15T00:00:00Z',\n",
              " 'word_count': 823}"
            ]
          },
          "metadata": {},
          "execution_count": 55
        }
      ],
      "source": [
        "# replace this comment with the code to test out the function on the element at index 2\n",
        "extract_doc_info(docs[2])"
      ]
    },
    {
      "cell_type": "code",
      "execution_count": 56,
      "metadata": {
        "colab": {
          "base_uri": "https://localhost:8080/",
          "height": 55
        },
        "id": "vhq9-9m4Ayw1",
        "outputId": "3fa4042b-dbb8-4b62-94da-dd481e1820d3"
      },
      "outputs": [
        {
          "output_type": "execute_result",
          "data": {
            "text/plain": [
              "\"\\n{'headline_main': 'Stock Drop Is Biggest in 2 Months--Margin Rise Held Factor in Lightest Trading of 1955',\\n 'headline_kicker': '1',\\n 'pub_date': '1955-05-15T00:00:00Z',\\n 'word_count': 823}\\n\""
            ],
            "application/vnd.google.colaboratory.intrinsic+json": {
              "type": "string"
            }
          },
          "metadata": {},
          "execution_count": 56
        }
      ],
      "source": [
        "# -EXPECTED OUTPUT-\n",
        "\"\"\"\n",
        "{'headline_main': 'Stock Drop Is Biggest in 2 Months--Margin Rise Held Factor in Lightest Trading of 1955',\n",
        " 'headline_kicker': '1',\n",
        " 'pub_date': '1955-05-15T00:00:00Z',\n",
        " 'word_count': 823}\n",
        "\"\"\""
      ]
    },
    {
      "cell_type": "code",
      "execution_count": 57,
      "metadata": {
        "colab": {
          "base_uri": "https://localhost:8080/"
        },
        "id": "Y2SbWLYwAyxC",
        "outputId": "97ce1505-4bcc-47f9-d188-2e33b0d212c7"
      },
      "outputs": [
        {
          "output_type": "execute_result",
          "data": {
            "text/plain": [
              "{'headline_main': \"HIGGINS, SPENT $22,189.53.; Governor-Elect's Election Expenses -- Harrison $9,220.28.\",\n",
              " 'headline_kicker': None,\n",
              " 'pub_date': '1904-11-17T00:00:00Z',\n",
              " 'word_count': 213}"
            ]
          },
          "metadata": {},
          "execution_count": 57
        }
      ],
      "source": [
        "# replace this comment with the code to test out the function on the element at index 2\n",
        "extract_doc_info(docs[0])"
      ]
    },
    {
      "cell_type": "code",
      "execution_count": 58,
      "metadata": {
        "colab": {
          "base_uri": "https://localhost:8080/",
          "height": 55
        },
        "id": "nSsZUOWlAyxC",
        "outputId": "a76bb35b-14af-41ca-df3a-07745db70781"
      },
      "outputs": [
        {
          "output_type": "execute_result",
          "data": {
            "text/plain": [
              "'\\n{\\'headline_main\\': \"HIGGINS, SPENT $22,189.53.; Governor-Elect\\'s Election Expenses -- Harrison $9,220.28.\",\\n \\'headline_kicker\\': None,\\n \\'pub_date\\': \\'1904-11-17T00:00:00Z\\',\\n \\'word_count\\': 213}\\n'"
            ],
            "application/vnd.google.colaboratory.intrinsic+json": {
              "type": "string"
            }
          },
          "metadata": {},
          "execution_count": 58
        }
      ],
      "source": [
        "# -EXPECTED OUTPUT-\n",
        "\"\"\"\n",
        "{'headline_main': \"HIGGINS, SPENT $22,189.53.; Governor-Elect's Election Expenses -- Harrison $9,220.28.\",\n",
        " 'headline_kicker': None,\n",
        " 'pub_date': '1904-11-17T00:00:00Z',\n",
        " 'word_count': 213}\n",
        "\"\"\""
      ]
    },
    {
      "cell_type": "markdown",
      "metadata": {
        "id": "4dHdmeEXAyxD"
      },
      "source": [
        "Now we can loop over the full list and create `doc_info_list`:\n",
        "\n",
        "> In the cell below, type following code to create a loop that creates the desired list using the function just created, then print out the results:\n",
        "\n",
        "either with a for loop:\n",
        "```\n",
        "doc_info_list = []\n",
        "for doc in docs:\n",
        "   doc_info_list.append(extract_doc_info(doc))\n",
        "doc_info_list\n",
        "```\n",
        "or with list comprehension:\n",
        "```\n",
        "doc_info_list = [extract_doc_info(doc) for doc in docs]\n",
        "doc_info_list\n",
        "```"
      ]
    },
    {
      "cell_type": "code",
      "execution_count": 59,
      "metadata": {
        "colab": {
          "base_uri": "https://localhost:8080/"
        },
        "id": "P3uOy4TuAyxD",
        "outputId": "1e0c7b2a-be0b-4285-d6fe-22cbdf77502d"
      },
      "outputs": [
        {
          "output_type": "execute_result",
          "data": {
            "text/plain": [
              "[{'headline_main': \"HIGGINS, SPENT $22,189.53.; Governor-Elect's Election Expenses -- Harrison $9,220.28.\",\n",
              "  'headline_kicker': None,\n",
              "  'pub_date': '1904-11-17T00:00:00Z',\n",
              "  'word_count': 213},\n",
              " {'headline_main': 'GARDEN BOUTS CANCELED; Mauriello Says He Could Not Be Ready on Nov. 3',\n",
              "  'headline_kicker': '1',\n",
              "  'pub_date': '1944-10-23T00:00:00Z',\n",
              "  'word_count': 149},\n",
              " {'headline_main': 'Stock Drop Is Biggest in 2 Months--Margin Rise Held Factor in Lightest Trading of 1955',\n",
              "  'headline_kicker': '1',\n",
              "  'pub_date': '1955-05-15T00:00:00Z',\n",
              "  'word_count': 823},\n",
              " {'headline_main': 'MUSIC OF THE WEEK',\n",
              "  'headline_kicker': None,\n",
              "  'pub_date': '1904-11-06T00:00:00Z',\n",
              "  'word_count': 2609},\n",
              " {'headline_main': 'Anacomp Inc. reports earnings for Qtr to March 31',\n",
              "  'headline_kicker': None,\n",
              "  'pub_date': '1992-05-06T00:00:00Z',\n",
              "  'word_count': 129},\n",
              " {'headline_main': 'Brooklyn Routs Yeshiva',\n",
              "  'headline_kicker': '1',\n",
              "  'pub_date': '1972-12-24T00:00:00Z',\n",
              "  'word_count': 144},\n",
              " {'headline_main': 'Albuquerque Program Gives Drinkers a Lift',\n",
              "  'headline_kicker': '1',\n",
              "  'pub_date': '1972-12-25T00:00:00Z',\n",
              "  'word_count': 151},\n",
              " {'headline_main': 'Front Page 7 -- No Title',\n",
              "  'headline_kicker': '1',\n",
              "  'pub_date': '1944-10-24T00:00:00Z',\n",
              "  'word_count': 29},\n",
              " {'headline_main': 'UNIONS AND BUILDERS READY FOR LONG FIGHT; None of the Strikers Back - Lock-Out Soon in Effect. 23,000 ALREADY INVOLVED Orders Sent to Every Building Employer Within Twenty-five Miles -- House-smiths Vote Not to Strike.',\n",
              "  'headline_kicker': None,\n",
              "  'pub_date': '1904-08-06T00:00:00Z',\n",
              "  'word_count': 883}]"
            ]
          },
          "metadata": {},
          "execution_count": 59
        }
      ],
      "source": [
        "# replace this comment with the code to create the desired list with a loop\n",
        "doc_info_list = [extract_doc_info(doc) for doc in docs]\n",
        "doc_info_list"
      ]
    },
    {
      "cell_type": "code",
      "execution_count": 60,
      "metadata": {
        "colab": {
          "base_uri": "https://localhost:8080/",
          "height": 128
        },
        "id": "0BH55BKQAyxE",
        "outputId": "4d8ed469-6bd1-4b25-f6af-91e669920be0"
      },
      "outputs": [
        {
          "output_type": "execute_result",
          "data": {
            "text/plain": [
              "'\\nOutput exceeds the size limit. Open the full output data in a text editor\\n\\n[{\\'headline_main\\': \"HIGGINS, SPENT $22,189.53.; Governor-Elect\\'s Election Expenses -- Harrison $9,220.28.\",\\n  \\'headline_kicker\\': None,\\n  \\'pub_date\\': \\'1904-11-17T00:00:00Z\\',\\n  \\'word_count\\': 213},\\n {\\'headline_main\\': \\'GARDEN BOUTS CANCELED; Mauriello Says He Could Not Be Ready on Nov. 3\\',\\n  \\'headline_kicker\\': \\'1\\',\\n  \\'pub_date\\': \\'1944-10-23T00:00:00Z\\',\\n  \\'word_count\\': 149},\\n {\\'headline_main\\': \\'Stock Drop Is Biggest in 2 Months--Margin Rise Held Factor in Lightest Trading of 1955\\',\\n  \\'headline_kicker\\': \\'1\\',\\n  \\'pub_date\\': \\'1955-05-15T00:00:00Z\\',\\n  \\'word_count\\': 823},\\n {\\'headline_main\\': \\'MUSIC OF THE WEEK\\',\\n  \\'headline_kicker\\': None,\\n  \\'pub_date\\': \\'1904-11-06T00:00:00Z\\',\\n  \\'word_count\\': 2609},\\n {\\'headline_main\\': \\'Anacomp Inc. reports earnings for Qtr to March 31\\',\\n  \\'headline_kicker\\': None,\\n  \\'pub_date\\': \\'1992-05-06T00:00:00Z\\',\\n  \\'word_count\\': 129},\\n {\\'headline_main\\': \\'Brooklyn Routs Yeshiva\\',\\n  \\'headline_kicker\\': \\'1\\',\\n  \\'pub_date\\': \\'1972-12-24T00:00:00Z\\',\\n  \\'word_count\\': 144},\\n {\\'headline_main\\': \\'Albuquerque Program Gives Drinkers a Lift\\',\\n  \\'pub_date\\': \\'1944-10-24T00:00:00Z\\',\\n  \\'word_count\\': 29},\\n {\\'headline_main\\': \\'UNIONS AND BUILDERS READY FOR LONG FIGHT; None of the Strikers Back - Lock-Out Soon in Effect. 23,000 ALREADY INVOLVED Orders Sent to Every Building Employer Within Twenty-five Miles -- House-smiths Vote Not to Strike.\\',\\n  \\'headline_kicker\\': None,\\n  \\'pub_date\\': \\'1904-08-06T00:00:00Z\\',\\n  \\'word_count\\': 883}]\\n'"
            ],
            "application/vnd.google.colaboratory.intrinsic+json": {
              "type": "string"
            }
          },
          "metadata": {},
          "execution_count": 60
        }
      ],
      "source": [
        "# -EXPECTED OUTPUT-\n",
        "\"\"\"\n",
        "Output exceeds the size limit. Open the full output data in a text editor\n",
        "\n",
        "[{'headline_main': \"HIGGINS, SPENT $22,189.53.; Governor-Elect's Election Expenses -- Harrison $9,220.28.\",\n",
        "  'headline_kicker': None,\n",
        "  'pub_date': '1904-11-17T00:00:00Z',\n",
        "  'word_count': 213},\n",
        " {'headline_main': 'GARDEN BOUTS CANCELED; Mauriello Says He Could Not Be Ready on Nov. 3',\n",
        "  'headline_kicker': '1',\n",
        "  'pub_date': '1944-10-23T00:00:00Z',\n",
        "  'word_count': 149},\n",
        " {'headline_main': 'Stock Drop Is Biggest in 2 Months--Margin Rise Held Factor in Lightest Trading of 1955',\n",
        "  'headline_kicker': '1',\n",
        "  'pub_date': '1955-05-15T00:00:00Z',\n",
        "  'word_count': 823},\n",
        " {'headline_main': 'MUSIC OF THE WEEK',\n",
        "  'headline_kicker': None,\n",
        "  'pub_date': '1904-11-06T00:00:00Z',\n",
        "  'word_count': 2609},\n",
        " {'headline_main': 'Anacomp Inc. reports earnings for Qtr to March 31',\n",
        "  'headline_kicker': None,\n",
        "  'pub_date': '1992-05-06T00:00:00Z',\n",
        "  'word_count': 129},\n",
        " {'headline_main': 'Brooklyn Routs Yeshiva',\n",
        "  'headline_kicker': '1',\n",
        "  'pub_date': '1972-12-24T00:00:00Z',\n",
        "  'word_count': 144},\n",
        " {'headline_main': 'Albuquerque Program Gives Drinkers a Lift',\n",
        "  'pub_date': '1944-10-24T00:00:00Z',\n",
        "  'word_count': 29},\n",
        " {'headline_main': 'UNIONS AND BUILDERS READY FOR LONG FIGHT; None of the Strikers Back - Lock-Out Soon in Effect. 23,000 ALREADY INVOLVED Orders Sent to Every Building Employer Within Twenty-five Miles -- House-smiths Vote Not to Strike.',\n",
        "  'headline_kicker': None,\n",
        "  'pub_date': '1904-08-06T00:00:00Z',\n",
        "  'word_count': 883}]\n",
        "\"\"\""
      ]
    },
    {
      "cell_type": "markdown",
      "metadata": {
        "id": "LJYUIrmVAyxE"
      },
      "source": [
        "Thus we have successfully flattened the required data"
      ]
    },
    {
      "cell_type": "markdown",
      "metadata": {
        "id": "8JkN04h7AyxF"
      },
      "source": [
        "## Transforming JSON to Alternative Formats\n",
        "\n",
        "### Viewing the Raw Dataset in Pandas\n",
        "\n",
        "You've also previously started to take a look at how to transform JSON to DataFrames. Investigating the schema, a good option for this could again be the value associated with the `'docs'` key. While this still has nested data itself, it's often easier to load the entire contents as a DataFrame for viewing and then use additional functions to break apart the internally nested data from there.\n",
        "\n",
        "So, first we will display the full information associated with the `'docs'` key:\n",
        "\n",
        "> In the cell below, first import pandas using the standard alias, then type the code to create a DataFrame of the info found in data->response->docs:\n",
        "\n",
        "```\n",
        "pd.DataFrame(data['response']['docs'])\n",
        "```"
      ]
    },
    {
      "cell_type": "code",
      "execution_count": 61,
      "metadata": {
        "colab": {
          "base_uri": "https://localhost:8080/"
        },
        "id": "5t-yEAKTAyxF",
        "outputId": "53b62ded-c9f9-4416-8d6b-05d948c30b0c"
      },
      "outputs": [
        {
          "output_type": "execute_result",
          "data": {
            "text/plain": [
              "(9, 17)"
            ]
          },
          "metadata": {},
          "execution_count": 61
        }
      ],
      "source": [
        "import pandas as pd\n",
        "df = pd.DataFrame(data['response']['docs'])\n",
        "df.shape"
      ]
    },
    {
      "cell_type": "code",
      "execution_count": 70,
      "metadata": {
        "colab": {
          "base_uri": "https://localhost:8080/"
        },
        "id": "aVxTWqvbAyxG",
        "outputId": "c74f4638-a8de-48fb-8760-ed09da2a4219"
      },
      "outputs": [
        {
          "output_type": "execute_result",
          "data": {
            "text/plain": [
              "(9, 17)"
            ]
          },
          "metadata": {},
          "execution_count": 70
        }
      ],
      "source": [
        "# replace this comment with the code to import pandas using the standard alias\n",
        "import pandas as pd\n",
        "\n",
        "\n",
        "# replace this comment with the code to create the desired DataFrame\n",
        "df = pd.DataFrame(data['response']['docs'])\n",
        "df.shape"
      ]
    },
    {
      "cell_type": "markdown",
      "metadata": {
        "id": "RylZP0JJAyxG"
      },
      "source": [
        "Note that because the value associated with the `'headline'` key is a dictionary, it is displayed in this crowded, messy way within the DataFrame, including `{` and `'` characters."
      ]
    },
    {
      "cell_type": "markdown",
      "metadata": {
        "id": "3bqcSNJ3AyxH"
      },
      "source": [
        "### Viewing the Flattened Info List\n",
        "\n",
        "Because `doc_info_list` is already flattened so the value associated with each key is just a number or string, it looks much neater when loaded into pandas:\n",
        "\n",
        "> In the cell below, type the following code to create a DataFrame from `doc_info_list`:\n",
        "\n",
        "```\n",
        "pd.DataFrame(doc_info_list)\n",
        "```"
      ]
    },
    {
      "cell_type": "code",
      "execution_count": 71,
      "metadata": {
        "colab": {
          "base_uri": "https://localhost:8080/",
          "height": 331
        },
        "id": "uVpRmakDAyxH",
        "outputId": "2e90eaf6-2b01-4a39-a0b4-da02d067c600"
      },
      "outputs": [
        {
          "output_type": "execute_result",
          "data": {
            "text/plain": [
              "                                       headline_main headline_kicker  \\\n",
              "0  HIGGINS, SPENT $22,189.53.; Governor-Elect's E...            None   \n",
              "1  GARDEN BOUTS CANCELED; Mauriello Says He Could...               1   \n",
              "2  Stock Drop Is Biggest in 2 Months--Margin Rise...               1   \n",
              "3                                  MUSIC OF THE WEEK            None   \n",
              "4  Anacomp Inc. reports earnings for Qtr to March 31            None   \n",
              "5                             Brooklyn Routs Yeshiva               1   \n",
              "6          Albuquerque Program Gives Drinkers a Lift               1   \n",
              "7                           Front Page 7 -- No Title               1   \n",
              "8  UNIONS AND BUILDERS READY FOR LONG FIGHT; None...            None   \n",
              "\n",
              "               pub_date  word_count  \n",
              "0  1904-11-17T00:00:00Z         213  \n",
              "1  1944-10-23T00:00:00Z         149  \n",
              "2  1955-05-15T00:00:00Z         823  \n",
              "3  1904-11-06T00:00:00Z        2609  \n",
              "4  1992-05-06T00:00:00Z         129  \n",
              "5  1972-12-24T00:00:00Z         144  \n",
              "6  1972-12-25T00:00:00Z         151  \n",
              "7  1944-10-24T00:00:00Z          29  \n",
              "8  1904-08-06T00:00:00Z         883  "
            ],
            "text/html": [
              "\n",
              "  <div id=\"df-9edb6085-7d78-4f3c-9efa-78772ae6cf60\" class=\"colab-df-container\">\n",
              "    <div>\n",
              "<style scoped>\n",
              "    .dataframe tbody tr th:only-of-type {\n",
              "        vertical-align: middle;\n",
              "    }\n",
              "\n",
              "    .dataframe tbody tr th {\n",
              "        vertical-align: top;\n",
              "    }\n",
              "\n",
              "    .dataframe thead th {\n",
              "        text-align: right;\n",
              "    }\n",
              "</style>\n",
              "<table border=\"1\" class=\"dataframe\">\n",
              "  <thead>\n",
              "    <tr style=\"text-align: right;\">\n",
              "      <th></th>\n",
              "      <th>headline_main</th>\n",
              "      <th>headline_kicker</th>\n",
              "      <th>pub_date</th>\n",
              "      <th>word_count</th>\n",
              "    </tr>\n",
              "  </thead>\n",
              "  <tbody>\n",
              "    <tr>\n",
              "      <th>0</th>\n",
              "      <td>HIGGINS, SPENT $22,189.53.; Governor-Elect's E...</td>\n",
              "      <td>None</td>\n",
              "      <td>1904-11-17T00:00:00Z</td>\n",
              "      <td>213</td>\n",
              "    </tr>\n",
              "    <tr>\n",
              "      <th>1</th>\n",
              "      <td>GARDEN BOUTS CANCELED; Mauriello Says He Could...</td>\n",
              "      <td>1</td>\n",
              "      <td>1944-10-23T00:00:00Z</td>\n",
              "      <td>149</td>\n",
              "    </tr>\n",
              "    <tr>\n",
              "      <th>2</th>\n",
              "      <td>Stock Drop Is Biggest in 2 Months--Margin Rise...</td>\n",
              "      <td>1</td>\n",
              "      <td>1955-05-15T00:00:00Z</td>\n",
              "      <td>823</td>\n",
              "    </tr>\n",
              "    <tr>\n",
              "      <th>3</th>\n",
              "      <td>MUSIC OF THE WEEK</td>\n",
              "      <td>None</td>\n",
              "      <td>1904-11-06T00:00:00Z</td>\n",
              "      <td>2609</td>\n",
              "    </tr>\n",
              "    <tr>\n",
              "      <th>4</th>\n",
              "      <td>Anacomp Inc. reports earnings for Qtr to March 31</td>\n",
              "      <td>None</td>\n",
              "      <td>1992-05-06T00:00:00Z</td>\n",
              "      <td>129</td>\n",
              "    </tr>\n",
              "    <tr>\n",
              "      <th>5</th>\n",
              "      <td>Brooklyn Routs Yeshiva</td>\n",
              "      <td>1</td>\n",
              "      <td>1972-12-24T00:00:00Z</td>\n",
              "      <td>144</td>\n",
              "    </tr>\n",
              "    <tr>\n",
              "      <th>6</th>\n",
              "      <td>Albuquerque Program Gives Drinkers a Lift</td>\n",
              "      <td>1</td>\n",
              "      <td>1972-12-25T00:00:00Z</td>\n",
              "      <td>151</td>\n",
              "    </tr>\n",
              "    <tr>\n",
              "      <th>7</th>\n",
              "      <td>Front Page 7 -- No Title</td>\n",
              "      <td>1</td>\n",
              "      <td>1944-10-24T00:00:00Z</td>\n",
              "      <td>29</td>\n",
              "    </tr>\n",
              "    <tr>\n",
              "      <th>8</th>\n",
              "      <td>UNIONS AND BUILDERS READY FOR LONG FIGHT; None...</td>\n",
              "      <td>None</td>\n",
              "      <td>1904-08-06T00:00:00Z</td>\n",
              "      <td>883</td>\n",
              "    </tr>\n",
              "  </tbody>\n",
              "</table>\n",
              "</div>\n",
              "    <div class=\"colab-df-buttons\">\n",
              "\n",
              "  <div class=\"colab-df-container\">\n",
              "    <button class=\"colab-df-convert\" onclick=\"convertToInteractive('df-9edb6085-7d78-4f3c-9efa-78772ae6cf60')\"\n",
              "            title=\"Convert this dataframe to an interactive table.\"\n",
              "            style=\"display:none;\">\n",
              "\n",
              "  <svg xmlns=\"http://www.w3.org/2000/svg\" height=\"24px\" viewBox=\"0 -960 960 960\">\n",
              "    <path d=\"M120-120v-720h720v720H120Zm60-500h600v-160H180v160Zm220 220h160v-160H400v160Zm0 220h160v-160H400v160ZM180-400h160v-160H180v160Zm440 0h160v-160H620v160ZM180-180h160v-160H180v160Zm440 0h160v-160H620v160Z\"/>\n",
              "  </svg>\n",
              "    </button>\n",
              "\n",
              "  <style>\n",
              "    .colab-df-container {\n",
              "      display:flex;\n",
              "      gap: 12px;\n",
              "    }\n",
              "\n",
              "    .colab-df-convert {\n",
              "      background-color: #E8F0FE;\n",
              "      border: none;\n",
              "      border-radius: 50%;\n",
              "      cursor: pointer;\n",
              "      display: none;\n",
              "      fill: #1967D2;\n",
              "      height: 32px;\n",
              "      padding: 0 0 0 0;\n",
              "      width: 32px;\n",
              "    }\n",
              "\n",
              "    .colab-df-convert:hover {\n",
              "      background-color: #E2EBFA;\n",
              "      box-shadow: 0px 1px 2px rgba(60, 64, 67, 0.3), 0px 1px 3px 1px rgba(60, 64, 67, 0.15);\n",
              "      fill: #174EA6;\n",
              "    }\n",
              "\n",
              "    .colab-df-buttons div {\n",
              "      margin-bottom: 4px;\n",
              "    }\n",
              "\n",
              "    [theme=dark] .colab-df-convert {\n",
              "      background-color: #3B4455;\n",
              "      fill: #D2E3FC;\n",
              "    }\n",
              "\n",
              "    [theme=dark] .colab-df-convert:hover {\n",
              "      background-color: #434B5C;\n",
              "      box-shadow: 0px 1px 3px 1px rgba(0, 0, 0, 0.15);\n",
              "      filter: drop-shadow(0px 1px 2px rgba(0, 0, 0, 0.3));\n",
              "      fill: #FFFFFF;\n",
              "    }\n",
              "  </style>\n",
              "\n",
              "    <script>\n",
              "      const buttonEl =\n",
              "        document.querySelector('#df-9edb6085-7d78-4f3c-9efa-78772ae6cf60 button.colab-df-convert');\n",
              "      buttonEl.style.display =\n",
              "        google.colab.kernel.accessAllowed ? 'block' : 'none';\n",
              "\n",
              "      async function convertToInteractive(key) {\n",
              "        const element = document.querySelector('#df-9edb6085-7d78-4f3c-9efa-78772ae6cf60');\n",
              "        const dataTable =\n",
              "          await google.colab.kernel.invokeFunction('convertToInteractive',\n",
              "                                                    [key], {});\n",
              "        if (!dataTable) return;\n",
              "\n",
              "        const docLinkHtml = 'Like what you see? Visit the ' +\n",
              "          '<a target=\"_blank\" href=https://colab.research.google.com/notebooks/data_table.ipynb>data table notebook</a>'\n",
              "          + ' to learn more about interactive tables.';\n",
              "        element.innerHTML = '';\n",
              "        dataTable['output_type'] = 'display_data';\n",
              "        await google.colab.output.renderOutput(dataTable, element);\n",
              "        const docLink = document.createElement('div');\n",
              "        docLink.innerHTML = docLinkHtml;\n",
              "        element.appendChild(docLink);\n",
              "      }\n",
              "    </script>\n",
              "  </div>\n",
              "\n",
              "\n",
              "<div id=\"df-39c07675-c660-4eb4-8c64-9c777927017b\">\n",
              "  <button class=\"colab-df-quickchart\" onclick=\"quickchart('df-39c07675-c660-4eb4-8c64-9c777927017b')\"\n",
              "            title=\"Suggest charts\"\n",
              "            style=\"display:none;\">\n",
              "\n",
              "<svg xmlns=\"http://www.w3.org/2000/svg\" height=\"24px\"viewBox=\"0 0 24 24\"\n",
              "     width=\"24px\">\n",
              "    <g>\n",
              "        <path d=\"M19 3H5c-1.1 0-2 .9-2 2v14c0 1.1.9 2 2 2h14c1.1 0 2-.9 2-2V5c0-1.1-.9-2-2-2zM9 17H7v-7h2v7zm4 0h-2V7h2v10zm4 0h-2v-4h2v4z\"/>\n",
              "    </g>\n",
              "</svg>\n",
              "  </button>\n",
              "\n",
              "<style>\n",
              "  .colab-df-quickchart {\n",
              "      --bg-color: #E8F0FE;\n",
              "      --fill-color: #1967D2;\n",
              "      --hover-bg-color: #E2EBFA;\n",
              "      --hover-fill-color: #174EA6;\n",
              "      --disabled-fill-color: #AAA;\n",
              "      --disabled-bg-color: #DDD;\n",
              "  }\n",
              "\n",
              "  [theme=dark] .colab-df-quickchart {\n",
              "      --bg-color: #3B4455;\n",
              "      --fill-color: #D2E3FC;\n",
              "      --hover-bg-color: #434B5C;\n",
              "      --hover-fill-color: #FFFFFF;\n",
              "      --disabled-bg-color: #3B4455;\n",
              "      --disabled-fill-color: #666;\n",
              "  }\n",
              "\n",
              "  .colab-df-quickchart {\n",
              "    background-color: var(--bg-color);\n",
              "    border: none;\n",
              "    border-radius: 50%;\n",
              "    cursor: pointer;\n",
              "    display: none;\n",
              "    fill: var(--fill-color);\n",
              "    height: 32px;\n",
              "    padding: 0;\n",
              "    width: 32px;\n",
              "  }\n",
              "\n",
              "  .colab-df-quickchart:hover {\n",
              "    background-color: var(--hover-bg-color);\n",
              "    box-shadow: 0 1px 2px rgba(60, 64, 67, 0.3), 0 1px 3px 1px rgba(60, 64, 67, 0.15);\n",
              "    fill: var(--button-hover-fill-color);\n",
              "  }\n",
              "\n",
              "  .colab-df-quickchart-complete:disabled,\n",
              "  .colab-df-quickchart-complete:disabled:hover {\n",
              "    background-color: var(--disabled-bg-color);\n",
              "    fill: var(--disabled-fill-color);\n",
              "    box-shadow: none;\n",
              "  }\n",
              "\n",
              "  .colab-df-spinner {\n",
              "    border: 2px solid var(--fill-color);\n",
              "    border-color: transparent;\n",
              "    border-bottom-color: var(--fill-color);\n",
              "    animation:\n",
              "      spin 1s steps(1) infinite;\n",
              "  }\n",
              "\n",
              "  @keyframes spin {\n",
              "    0% {\n",
              "      border-color: transparent;\n",
              "      border-bottom-color: var(--fill-color);\n",
              "      border-left-color: var(--fill-color);\n",
              "    }\n",
              "    20% {\n",
              "      border-color: transparent;\n",
              "      border-left-color: var(--fill-color);\n",
              "      border-top-color: var(--fill-color);\n",
              "    }\n",
              "    30% {\n",
              "      border-color: transparent;\n",
              "      border-left-color: var(--fill-color);\n",
              "      border-top-color: var(--fill-color);\n",
              "      border-right-color: var(--fill-color);\n",
              "    }\n",
              "    40% {\n",
              "      border-color: transparent;\n",
              "      border-right-color: var(--fill-color);\n",
              "      border-top-color: var(--fill-color);\n",
              "    }\n",
              "    60% {\n",
              "      border-color: transparent;\n",
              "      border-right-color: var(--fill-color);\n",
              "    }\n",
              "    80% {\n",
              "      border-color: transparent;\n",
              "      border-right-color: var(--fill-color);\n",
              "      border-bottom-color: var(--fill-color);\n",
              "    }\n",
              "    90% {\n",
              "      border-color: transparent;\n",
              "      border-bottom-color: var(--fill-color);\n",
              "    }\n",
              "  }\n",
              "</style>\n",
              "\n",
              "  <script>\n",
              "    async function quickchart(key) {\n",
              "      const quickchartButtonEl =\n",
              "        document.querySelector('#' + key + ' button');\n",
              "      quickchartButtonEl.disabled = true;  // To prevent multiple clicks.\n",
              "      quickchartButtonEl.classList.add('colab-df-spinner');\n",
              "      try {\n",
              "        const charts = await google.colab.kernel.invokeFunction(\n",
              "            'suggestCharts', [key], {});\n",
              "      } catch (error) {\n",
              "        console.error('Error during call to suggestCharts:', error);\n",
              "      }\n",
              "      quickchartButtonEl.classList.remove('colab-df-spinner');\n",
              "      quickchartButtonEl.classList.add('colab-df-quickchart-complete');\n",
              "    }\n",
              "    (() => {\n",
              "      let quickchartButtonEl =\n",
              "        document.querySelector('#df-39c07675-c660-4eb4-8c64-9c777927017b button');\n",
              "      quickchartButtonEl.style.display =\n",
              "        google.colab.kernel.accessAllowed ? 'block' : 'none';\n",
              "    })();\n",
              "  </script>\n",
              "</div>\n",
              "\n",
              "    </div>\n",
              "  </div>\n"
            ],
            "application/vnd.google.colaboratory.intrinsic+json": {
              "type": "dataframe",
              "summary": "{\n  \"name\": \"pd\",\n  \"rows\": 9,\n  \"fields\": [\n    {\n      \"column\": \"headline_main\",\n      \"properties\": {\n        \"dtype\": \"string\",\n        \"num_unique_values\": 9,\n        \"samples\": [\n          \"Front Page 7 -- No Title\",\n          \"GARDEN BOUTS CANCELED; Mauriello Says He Could Not Be Ready on Nov. 3\",\n          \"Brooklyn Routs Yeshiva\"\n        ],\n        \"semantic_type\": \"\",\n        \"description\": \"\"\n      }\n    },\n    {\n      \"column\": \"headline_kicker\",\n      \"properties\": {\n        \"dtype\": \"category\",\n        \"num_unique_values\": 1,\n        \"samples\": [\n          \"1\"\n        ],\n        \"semantic_type\": \"\",\n        \"description\": \"\"\n      }\n    },\n    {\n      \"column\": \"pub_date\",\n      \"properties\": {\n        \"dtype\": \"object\",\n        \"num_unique_values\": 9,\n        \"samples\": [\n          \"1944-10-24T00:00:00Z\"\n        ],\n        \"semantic_type\": \"\",\n        \"description\": \"\"\n      }\n    },\n    {\n      \"column\": \"word_count\",\n      \"properties\": {\n        \"dtype\": \"number\",\n        \"std\": 826,\n        \"min\": 29,\n        \"max\": 2609,\n        \"num_unique_values\": 9,\n        \"samples\": [\n          29\n        ],\n        \"semantic_type\": \"\",\n        \"description\": \"\"\n      }\n    }\n  ]\n}"
            }
          },
          "metadata": {},
          "execution_count": 71
        }
      ],
      "source": [
        "# replace this comment with the code to create the desired DataFramepd\n",
        "pd.DataFrame(doc_info_list)"
      ]
    },
    {
      "cell_type": "markdown",
      "metadata": {
        "id": "TCidsv9CAyxI"
      },
      "source": [
        "We could also re-create this from the raw data using pandas rather than base Python:\n",
        "\n",
        "> In the cell below, type the following code to create the DataFrame using pandas:\n",
        "\n",
        "First, create a DataFrame of the raw docs info:\n",
        "```\n",
        "df = pd.DataFrame(data['response']['docs'])\n",
        "```\n",
        "Next, make new columns for `headline_main` and `headline_kicker`\n",
        "```\n",
        "df['headline_main'] = df['headline'].apply(lambda headline_dict: headline_dict['main'])\n",
        "df['headline_kicker'] = df['headline'].apply(lambda headline_dict: headline_dict['kicker'])\n",
        "```\n",
        "Finally, subset to only the relevent columns and display the DataFrame and then display the DataFrame:\n",
        "```\n",
        "df = df[['headline_main', 'headline_kicker', 'pub_date', 'word_count']]\n",
        "df\n",
        "```"
      ]
    },
    {
      "cell_type": "code",
      "execution_count": 72,
      "metadata": {
        "id": "QKOfvxapAyxI"
      },
      "outputs": [],
      "source": [
        "df = pd.DataFrame(data['response']['docs'])"
      ]
    },
    {
      "cell_type": "code",
      "execution_count": 76,
      "metadata": {
        "colab": {
          "base_uri": "https://localhost:8080/",
          "height": 331
        },
        "id": "nJhCOA5KAyxI",
        "outputId": "87e84a0b-0e8c-48b6-ecc2-f3ca4d18115c"
      },
      "outputs": [
        {
          "output_type": "execute_result",
          "data": {
            "text/plain": [
              "                                       headline_main headline_kicker  \\\n",
              "0  HIGGINS, SPENT $22,189.53.; Governor-Elect's E...            None   \n",
              "1  GARDEN BOUTS CANCELED; Mauriello Says He Could...               1   \n",
              "2  Stock Drop Is Biggest in 2 Months--Margin Rise...               1   \n",
              "3                                  MUSIC OF THE WEEK            None   \n",
              "4  Anacomp Inc. reports earnings for Qtr to March 31            None   \n",
              "5                             Brooklyn Routs Yeshiva               1   \n",
              "6          Albuquerque Program Gives Drinkers a Lift               1   \n",
              "7                           Front Page 7 -- No Title               1   \n",
              "8  UNIONS AND BUILDERS READY FOR LONG FIGHT; None...            None   \n",
              "\n",
              "               pub_date  word_count  \n",
              "0  1904-11-17T00:00:00Z         213  \n",
              "1  1944-10-23T00:00:00Z         149  \n",
              "2  1955-05-15T00:00:00Z         823  \n",
              "3  1904-11-06T00:00:00Z        2609  \n",
              "4  1992-05-06T00:00:00Z         129  \n",
              "5  1972-12-24T00:00:00Z         144  \n",
              "6  1972-12-25T00:00:00Z         151  \n",
              "7  1944-10-24T00:00:00Z          29  \n",
              "8  1904-08-06T00:00:00Z         883  "
            ],
            "text/html": [
              "\n",
              "  <div id=\"df-5a3775b2-0ea0-4bd0-824b-25e3e9154182\" class=\"colab-df-container\">\n",
              "    <div>\n",
              "<style scoped>\n",
              "    .dataframe tbody tr th:only-of-type {\n",
              "        vertical-align: middle;\n",
              "    }\n",
              "\n",
              "    .dataframe tbody tr th {\n",
              "        vertical-align: top;\n",
              "    }\n",
              "\n",
              "    .dataframe thead th {\n",
              "        text-align: right;\n",
              "    }\n",
              "</style>\n",
              "<table border=\"1\" class=\"dataframe\">\n",
              "  <thead>\n",
              "    <tr style=\"text-align: right;\">\n",
              "      <th></th>\n",
              "      <th>headline_main</th>\n",
              "      <th>headline_kicker</th>\n",
              "      <th>pub_date</th>\n",
              "      <th>word_count</th>\n",
              "    </tr>\n",
              "  </thead>\n",
              "  <tbody>\n",
              "    <tr>\n",
              "      <th>0</th>\n",
              "      <td>HIGGINS, SPENT $22,189.53.; Governor-Elect's E...</td>\n",
              "      <td>None</td>\n",
              "      <td>1904-11-17T00:00:00Z</td>\n",
              "      <td>213</td>\n",
              "    </tr>\n",
              "    <tr>\n",
              "      <th>1</th>\n",
              "      <td>GARDEN BOUTS CANCELED; Mauriello Says He Could...</td>\n",
              "      <td>1</td>\n",
              "      <td>1944-10-23T00:00:00Z</td>\n",
              "      <td>149</td>\n",
              "    </tr>\n",
              "    <tr>\n",
              "      <th>2</th>\n",
              "      <td>Stock Drop Is Biggest in 2 Months--Margin Rise...</td>\n",
              "      <td>1</td>\n",
              "      <td>1955-05-15T00:00:00Z</td>\n",
              "      <td>823</td>\n",
              "    </tr>\n",
              "    <tr>\n",
              "      <th>3</th>\n",
              "      <td>MUSIC OF THE WEEK</td>\n",
              "      <td>None</td>\n",
              "      <td>1904-11-06T00:00:00Z</td>\n",
              "      <td>2609</td>\n",
              "    </tr>\n",
              "    <tr>\n",
              "      <th>4</th>\n",
              "      <td>Anacomp Inc. reports earnings for Qtr to March 31</td>\n",
              "      <td>None</td>\n",
              "      <td>1992-05-06T00:00:00Z</td>\n",
              "      <td>129</td>\n",
              "    </tr>\n",
              "    <tr>\n",
              "      <th>5</th>\n",
              "      <td>Brooklyn Routs Yeshiva</td>\n",
              "      <td>1</td>\n",
              "      <td>1972-12-24T00:00:00Z</td>\n",
              "      <td>144</td>\n",
              "    </tr>\n",
              "    <tr>\n",
              "      <th>6</th>\n",
              "      <td>Albuquerque Program Gives Drinkers a Lift</td>\n",
              "      <td>1</td>\n",
              "      <td>1972-12-25T00:00:00Z</td>\n",
              "      <td>151</td>\n",
              "    </tr>\n",
              "    <tr>\n",
              "      <th>7</th>\n",
              "      <td>Front Page 7 -- No Title</td>\n",
              "      <td>1</td>\n",
              "      <td>1944-10-24T00:00:00Z</td>\n",
              "      <td>29</td>\n",
              "    </tr>\n",
              "    <tr>\n",
              "      <th>8</th>\n",
              "      <td>UNIONS AND BUILDERS READY FOR LONG FIGHT; None...</td>\n",
              "      <td>None</td>\n",
              "      <td>1904-08-06T00:00:00Z</td>\n",
              "      <td>883</td>\n",
              "    </tr>\n",
              "  </tbody>\n",
              "</table>\n",
              "</div>\n",
              "    <div class=\"colab-df-buttons\">\n",
              "\n",
              "  <div class=\"colab-df-container\">\n",
              "    <button class=\"colab-df-convert\" onclick=\"convertToInteractive('df-5a3775b2-0ea0-4bd0-824b-25e3e9154182')\"\n",
              "            title=\"Convert this dataframe to an interactive table.\"\n",
              "            style=\"display:none;\">\n",
              "\n",
              "  <svg xmlns=\"http://www.w3.org/2000/svg\" height=\"24px\" viewBox=\"0 -960 960 960\">\n",
              "    <path d=\"M120-120v-720h720v720H120Zm60-500h600v-160H180v160Zm220 220h160v-160H400v160Zm0 220h160v-160H400v160ZM180-400h160v-160H180v160Zm440 0h160v-160H620v160ZM180-180h160v-160H180v160Zm440 0h160v-160H620v160Z\"/>\n",
              "  </svg>\n",
              "    </button>\n",
              "\n",
              "  <style>\n",
              "    .colab-df-container {\n",
              "      display:flex;\n",
              "      gap: 12px;\n",
              "    }\n",
              "\n",
              "    .colab-df-convert {\n",
              "      background-color: #E8F0FE;\n",
              "      border: none;\n",
              "      border-radius: 50%;\n",
              "      cursor: pointer;\n",
              "      display: none;\n",
              "      fill: #1967D2;\n",
              "      height: 32px;\n",
              "      padding: 0 0 0 0;\n",
              "      width: 32px;\n",
              "    }\n",
              "\n",
              "    .colab-df-convert:hover {\n",
              "      background-color: #E2EBFA;\n",
              "      box-shadow: 0px 1px 2px rgba(60, 64, 67, 0.3), 0px 1px 3px 1px rgba(60, 64, 67, 0.15);\n",
              "      fill: #174EA6;\n",
              "    }\n",
              "\n",
              "    .colab-df-buttons div {\n",
              "      margin-bottom: 4px;\n",
              "    }\n",
              "\n",
              "    [theme=dark] .colab-df-convert {\n",
              "      background-color: #3B4455;\n",
              "      fill: #D2E3FC;\n",
              "    }\n",
              "\n",
              "    [theme=dark] .colab-df-convert:hover {\n",
              "      background-color: #434B5C;\n",
              "      box-shadow: 0px 1px 3px 1px rgba(0, 0, 0, 0.15);\n",
              "      filter: drop-shadow(0px 1px 2px rgba(0, 0, 0, 0.3));\n",
              "      fill: #FFFFFF;\n",
              "    }\n",
              "  </style>\n",
              "\n",
              "    <script>\n",
              "      const buttonEl =\n",
              "        document.querySelector('#df-5a3775b2-0ea0-4bd0-824b-25e3e9154182 button.colab-df-convert');\n",
              "      buttonEl.style.display =\n",
              "        google.colab.kernel.accessAllowed ? 'block' : 'none';\n",
              "\n",
              "      async function convertToInteractive(key) {\n",
              "        const element = document.querySelector('#df-5a3775b2-0ea0-4bd0-824b-25e3e9154182');\n",
              "        const dataTable =\n",
              "          await google.colab.kernel.invokeFunction('convertToInteractive',\n",
              "                                                    [key], {});\n",
              "        if (!dataTable) return;\n",
              "\n",
              "        const docLinkHtml = 'Like what you see? Visit the ' +\n",
              "          '<a target=\"_blank\" href=https://colab.research.google.com/notebooks/data_table.ipynb>data table notebook</a>'\n",
              "          + ' to learn more about interactive tables.';\n",
              "        element.innerHTML = '';\n",
              "        dataTable['output_type'] = 'display_data';\n",
              "        await google.colab.output.renderOutput(dataTable, element);\n",
              "        const docLink = document.createElement('div');\n",
              "        docLink.innerHTML = docLinkHtml;\n",
              "        element.appendChild(docLink);\n",
              "      }\n",
              "    </script>\n",
              "  </div>\n",
              "\n",
              "\n",
              "<div id=\"df-5f5834b1-1e3d-4440-9eb7-893ceeeaf168\">\n",
              "  <button class=\"colab-df-quickchart\" onclick=\"quickchart('df-5f5834b1-1e3d-4440-9eb7-893ceeeaf168')\"\n",
              "            title=\"Suggest charts\"\n",
              "            style=\"display:none;\">\n",
              "\n",
              "<svg xmlns=\"http://www.w3.org/2000/svg\" height=\"24px\"viewBox=\"0 0 24 24\"\n",
              "     width=\"24px\">\n",
              "    <g>\n",
              "        <path d=\"M19 3H5c-1.1 0-2 .9-2 2v14c0 1.1.9 2 2 2h14c1.1 0 2-.9 2-2V5c0-1.1-.9-2-2-2zM9 17H7v-7h2v7zm4 0h-2V7h2v10zm4 0h-2v-4h2v4z\"/>\n",
              "    </g>\n",
              "</svg>\n",
              "  </button>\n",
              "\n",
              "<style>\n",
              "  .colab-df-quickchart {\n",
              "      --bg-color: #E8F0FE;\n",
              "      --fill-color: #1967D2;\n",
              "      --hover-bg-color: #E2EBFA;\n",
              "      --hover-fill-color: #174EA6;\n",
              "      --disabled-fill-color: #AAA;\n",
              "      --disabled-bg-color: #DDD;\n",
              "  }\n",
              "\n",
              "  [theme=dark] .colab-df-quickchart {\n",
              "      --bg-color: #3B4455;\n",
              "      --fill-color: #D2E3FC;\n",
              "      --hover-bg-color: #434B5C;\n",
              "      --hover-fill-color: #FFFFFF;\n",
              "      --disabled-bg-color: #3B4455;\n",
              "      --disabled-fill-color: #666;\n",
              "  }\n",
              "\n",
              "  .colab-df-quickchart {\n",
              "    background-color: var(--bg-color);\n",
              "    border: none;\n",
              "    border-radius: 50%;\n",
              "    cursor: pointer;\n",
              "    display: none;\n",
              "    fill: var(--fill-color);\n",
              "    height: 32px;\n",
              "    padding: 0;\n",
              "    width: 32px;\n",
              "  }\n",
              "\n",
              "  .colab-df-quickchart:hover {\n",
              "    background-color: var(--hover-bg-color);\n",
              "    box-shadow: 0 1px 2px rgba(60, 64, 67, 0.3), 0 1px 3px 1px rgba(60, 64, 67, 0.15);\n",
              "    fill: var(--button-hover-fill-color);\n",
              "  }\n",
              "\n",
              "  .colab-df-quickchart-complete:disabled,\n",
              "  .colab-df-quickchart-complete:disabled:hover {\n",
              "    background-color: var(--disabled-bg-color);\n",
              "    fill: var(--disabled-fill-color);\n",
              "    box-shadow: none;\n",
              "  }\n",
              "\n",
              "  .colab-df-spinner {\n",
              "    border: 2px solid var(--fill-color);\n",
              "    border-color: transparent;\n",
              "    border-bottom-color: var(--fill-color);\n",
              "    animation:\n",
              "      spin 1s steps(1) infinite;\n",
              "  }\n",
              "\n",
              "  @keyframes spin {\n",
              "    0% {\n",
              "      border-color: transparent;\n",
              "      border-bottom-color: var(--fill-color);\n",
              "      border-left-color: var(--fill-color);\n",
              "    }\n",
              "    20% {\n",
              "      border-color: transparent;\n",
              "      border-left-color: var(--fill-color);\n",
              "      border-top-color: var(--fill-color);\n",
              "    }\n",
              "    30% {\n",
              "      border-color: transparent;\n",
              "      border-left-color: var(--fill-color);\n",
              "      border-top-color: var(--fill-color);\n",
              "      border-right-color: var(--fill-color);\n",
              "    }\n",
              "    40% {\n",
              "      border-color: transparent;\n",
              "      border-right-color: var(--fill-color);\n",
              "      border-top-color: var(--fill-color);\n",
              "    }\n",
              "    60% {\n",
              "      border-color: transparent;\n",
              "      border-right-color: var(--fill-color);\n",
              "    }\n",
              "    80% {\n",
              "      border-color: transparent;\n",
              "      border-right-color: var(--fill-color);\n",
              "      border-bottom-color: var(--fill-color);\n",
              "    }\n",
              "    90% {\n",
              "      border-color: transparent;\n",
              "      border-bottom-color: var(--fill-color);\n",
              "    }\n",
              "  }\n",
              "</style>\n",
              "\n",
              "  <script>\n",
              "    async function quickchart(key) {\n",
              "      const quickchartButtonEl =\n",
              "        document.querySelector('#' + key + ' button');\n",
              "      quickchartButtonEl.disabled = true;  // To prevent multiple clicks.\n",
              "      quickchartButtonEl.classList.add('colab-df-spinner');\n",
              "      try {\n",
              "        const charts = await google.colab.kernel.invokeFunction(\n",
              "            'suggestCharts', [key], {});\n",
              "      } catch (error) {\n",
              "        console.error('Error during call to suggestCharts:', error);\n",
              "      }\n",
              "      quickchartButtonEl.classList.remove('colab-df-spinner');\n",
              "      quickchartButtonEl.classList.add('colab-df-quickchart-complete');\n",
              "    }\n",
              "    (() => {\n",
              "      let quickchartButtonEl =\n",
              "        document.querySelector('#df-5f5834b1-1e3d-4440-9eb7-893ceeeaf168 button');\n",
              "      quickchartButtonEl.style.display =\n",
              "        google.colab.kernel.accessAllowed ? 'block' : 'none';\n",
              "    })();\n",
              "  </script>\n",
              "</div>\n",
              "\n",
              "  <div id=\"id_3ad82339-fba8-4252-a6ce-56fb6f98a0da\">\n",
              "    <style>\n",
              "      .colab-df-generate {\n",
              "        background-color: #E8F0FE;\n",
              "        border: none;\n",
              "        border-radius: 50%;\n",
              "        cursor: pointer;\n",
              "        display: none;\n",
              "        fill: #1967D2;\n",
              "        height: 32px;\n",
              "        padding: 0 0 0 0;\n",
              "        width: 32px;\n",
              "      }\n",
              "\n",
              "      .colab-df-generate:hover {\n",
              "        background-color: #E2EBFA;\n",
              "        box-shadow: 0px 1px 2px rgba(60, 64, 67, 0.3), 0px 1px 3px 1px rgba(60, 64, 67, 0.15);\n",
              "        fill: #174EA6;\n",
              "      }\n",
              "\n",
              "      [theme=dark] .colab-df-generate {\n",
              "        background-color: #3B4455;\n",
              "        fill: #D2E3FC;\n",
              "      }\n",
              "\n",
              "      [theme=dark] .colab-df-generate:hover {\n",
              "        background-color: #434B5C;\n",
              "        box-shadow: 0px 1px 3px 1px rgba(0, 0, 0, 0.15);\n",
              "        filter: drop-shadow(0px 1px 2px rgba(0, 0, 0, 0.3));\n",
              "        fill: #FFFFFF;\n",
              "      }\n",
              "    </style>\n",
              "    <button class=\"colab-df-generate\" onclick=\"generateWithVariable('df')\"\n",
              "            title=\"Generate code using this dataframe.\"\n",
              "            style=\"display:none;\">\n",
              "\n",
              "  <svg xmlns=\"http://www.w3.org/2000/svg\" height=\"24px\"viewBox=\"0 0 24 24\"\n",
              "       width=\"24px\">\n",
              "    <path d=\"M7,19H8.4L18.45,9,17,7.55,7,17.6ZM5,21V16.75L18.45,3.32a2,2,0,0,1,2.83,0l1.4,1.43a1.91,1.91,0,0,1,.58,1.4,1.91,1.91,0,0,1-.58,1.4L9.25,21ZM18.45,9,17,7.55Zm-12,3A5.31,5.31,0,0,0,4.9,8.1,5.31,5.31,0,0,0,1,6.5,5.31,5.31,0,0,0,4.9,4.9,5.31,5.31,0,0,0,6.5,1,5.31,5.31,0,0,0,8.1,4.9,5.31,5.31,0,0,0,12,6.5,5.46,5.46,0,0,0,6.5,12Z\"/>\n",
              "  </svg>\n",
              "    </button>\n",
              "    <script>\n",
              "      (() => {\n",
              "      const buttonEl =\n",
              "        document.querySelector('#id_3ad82339-fba8-4252-a6ce-56fb6f98a0da button.colab-df-generate');\n",
              "      buttonEl.style.display =\n",
              "        google.colab.kernel.accessAllowed ? 'block' : 'none';\n",
              "\n",
              "      buttonEl.onclick = () => {\n",
              "        google.colab.notebook.generateWithVariable('df');\n",
              "      }\n",
              "      })();\n",
              "    </script>\n",
              "  </div>\n",
              "\n",
              "    </div>\n",
              "  </div>\n"
            ],
            "application/vnd.google.colaboratory.intrinsic+json": {
              "type": "dataframe",
              "variable_name": "df",
              "summary": "{\n  \"name\": \"df\",\n  \"rows\": 9,\n  \"fields\": [\n    {\n      \"column\": \"headline_main\",\n      \"properties\": {\n        \"dtype\": \"string\",\n        \"num_unique_values\": 9,\n        \"samples\": [\n          \"Front Page 7 -- No Title\",\n          \"GARDEN BOUTS CANCELED; Mauriello Says He Could Not Be Ready on Nov. 3\",\n          \"Brooklyn Routs Yeshiva\"\n        ],\n        \"semantic_type\": \"\",\n        \"description\": \"\"\n      }\n    },\n    {\n      \"column\": \"headline_kicker\",\n      \"properties\": {\n        \"dtype\": \"category\",\n        \"num_unique_values\": 1,\n        \"samples\": [\n          \"1\"\n        ],\n        \"semantic_type\": \"\",\n        \"description\": \"\"\n      }\n    },\n    {\n      \"column\": \"pub_date\",\n      \"properties\": {\n        \"dtype\": \"object\",\n        \"num_unique_values\": 9,\n        \"samples\": [\n          \"1944-10-24T00:00:00Z\"\n        ],\n        \"semantic_type\": \"\",\n        \"description\": \"\"\n      }\n    },\n    {\n      \"column\": \"word_count\",\n      \"properties\": {\n        \"dtype\": \"number\",\n        \"std\": 826,\n        \"min\": 29,\n        \"max\": 2609,\n        \"num_unique_values\": 9,\n        \"samples\": [\n          29\n        ],\n        \"semantic_type\": \"\",\n        \"description\": \"\"\n      }\n    }\n  ]\n}"
            }
          },
          "metadata": {},
          "execution_count": 76
        }
      ],
      "source": [
        "# replace this comment with the code to create DataFrame of raw docs info\n",
        "# replace this comment with the code to make new headline_main and headline_kicker columns\n",
        "# replace this comment with the code to subset to only the relevant columns\n",
        "# replace this comment with the code to display the DataFrame\n",
        "df['headline_main'] = df['headline'].apply(lambda headline_dict: headline_dict['main'])\n",
        "df['headline_kicker'] = df['headline'].apply(lambda headline_dict: headline_dict['kicker'])\n",
        "df = df[['headline_main', 'headline_kicker', 'pub_date', 'word_count']]\n",
        "df"
      ]
    },
    {
      "cell_type": "code",
      "execution_count": 75,
      "metadata": {
        "id": "weIn8pySAyxJ"
      },
      "outputs": [],
      "source": [
        "# -EXPECTED OUTPUT-\n",
        "# a pandas DataFrame with 9 rows and 5 columns"
      ]
    },
    {
      "cell_type": "markdown",
      "metadata": {
        "id": "IM6rJSUFAyxJ"
      },
      "source": [
        "This is a good general strategy for transforming nested JSON: create a DataFrame and then break out nested features into their own column features."
      ]
    },
    {
      "cell_type": "markdown",
      "metadata": {
        "id": "4U3D7_GLAyxJ"
      },
      "source": [
        "## Outputting to JSON\n",
        "\n",
        "Finally, take a look at how you can write data back to JSON. Like loading, you first open a file (this time in write mode) and use the json package to interact with that file object. Only instead of `json.load` to load the contents of the file into a Python object, you call `json.dump` to write the contents of the Python object into the file.\n",
        "\n",
        "> In the cell below, type the following code to write the data to a JSON file:\n",
        "\n",
        "```\n",
        "with open('doc_info_list.json', 'w') as f:\n",
        "    json.dump(doc_info_list, f)\n",
        "```"
      ]
    },
    {
      "cell_type": "code",
      "execution_count": 77,
      "metadata": {
        "id": "FwAG-VmpAyxJ"
      },
      "outputs": [],
      "source": [
        "# replace this comment with the code to write the data to a json file\n",
        "with open('doc_info_list.json', 'w') as f:\n",
        "    json.dump(doc_info_list, f)"
      ]
    },
    {
      "cell_type": "markdown",
      "metadata": {
        "id": "FOpGTrRiAyxK"
      },
      "source": [
        "Then if we want to load that cleaned dataset for future use, we can open that new file:\n",
        "\n",
        "> In the cell below, type the following code to load the file we just created:\n",
        "\n",
        "```\n",
        "with open('doc_info_list.json') as f:\n",
        "    doc_info_list_from_disk = json.load(f)\n",
        "```"
      ]
    },
    {
      "cell_type": "code",
      "execution_count": 78,
      "metadata": {
        "id": "mVqPzHFnAyxK"
      },
      "outputs": [],
      "source": [
        "# replace this comment with the code to load the file just created\n",
        "with open('doc_info_list.json') as f:\n",
        "    doc_info_list_from_disk = json.load(f)"
      ]
    },
    {
      "cell_type": "markdown",
      "metadata": {
        "id": "c_pjqlBrAyxK"
      },
      "source": [
        "The new file should contain identical information to the original Python variable:\n",
        "\n",
        "> In the cell below, type the following code to check that the data in `doc_info_list` is the same as the data in `doc_info_list_from_disk`:\n",
        "\n",
        "```\n",
        "doc_info_list_from_disk == doc_info_list\n",
        "```"
      ]
    },
    {
      "cell_type": "code",
      "execution_count": 68,
      "metadata": {
        "id": "K8kAMpPQAyxK"
      },
      "outputs": [],
      "source": [
        "# replace this comment with the code to check that the two files contain the same data"
      ]
    },
    {
      "cell_type": "code",
      "execution_count": 69,
      "metadata": {
        "id": "Yp8SdRmeAyxK"
      },
      "outputs": [],
      "source": [
        "# -EXPECTED OUTPUT-\n",
        "# True"
      ]
    },
    {
      "cell_type": "markdown",
      "metadata": {
        "id": "zR-6gkvgAyxL"
      },
      "source": [
        "## Summary\n",
        "There you have it. In this, you practiced using JSON some more, this time interpreting an example schema diagram in order to retrieve information. You also looked at a general procedure for transforming nested data to pandas DataFrames (create a DataFrame, and then break apart nested data using lambda functions to create additional columns). Finally, you also took a brief look at saving data to JSON files."
      ]
    }
  ],
  "metadata": {
    "kernelspec": {
      "display_name": "Python 3",
      "language": "python",
      "name": "python3"
    },
    "language_info": {
      "codemirror_mode": {
        "name": "ipython",
        "version": 3
      },
      "file_extension": ".py",
      "mimetype": "text/x-python",
      "name": "python",
      "nbconvert_exporter": "python",
      "pygments_lexer": "ipython3",
      "version": "3.8.5"
    },
    "toc": {
      "base_numbering": 1,
      "nav_menu": {},
      "number_sections": true,
      "sideBar": true,
      "skip_h1_title": false,
      "title_cell": "Table of Contents",
      "title_sidebar": "Contents",
      "toc_cell": false,
      "toc_position": {},
      "toc_section_display": true,
      "toc_window_display": false
    },
    "colab": {
      "provenance": [],
      "include_colab_link": true
    }
  },
  "nbformat": 4,
  "nbformat_minor": 0
}